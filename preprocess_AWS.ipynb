{
 "cells": [
  {
   "cell_type": "markdown",
   "id": "fab45675",
   "metadata": {},
   "source": [
    "# Input Data Preprocessing\n",
    "This Jupyter notebook contains code to process weather station data into a single .csv from multiple messy files. Once you complete this script, move to process_AWS to complete the data cleaning process."
   ]
  },
  {
   "cell_type": "code",
   "execution_count": 99,
   "id": "e4c5ca84",
   "metadata": {},
   "outputs": [],
   "source": [
    "import numpy as np\n",
    "import os\n",
    "import xarray as xr\n",
    "import logging\n",
    "import pandas as pd\n",
    "import matplotlib.pyplot as plt\n",
    "import matplotlib as mpl\n",
    "logging.getLogger('matplotlib').setLevel(logging.WARNING)"
   ]
  },
  {
   "cell_type": "markdown",
   "id": "6000adcd",
   "metadata": {},
   "source": [
    "## Set-up: Define variables\n",
    "Fill out the cell below to set up the glacier being accessed and the filepaths."
   ]
  },
  {
   "cell_type": "code",
   "execution_count": 100,
   "id": "3a775ae2",
   "metadata": {},
   "outputs": [],
   "source": [
    "# FILEPATHS\n",
    "data_fp = '../climate_data/AWS/'                    # Filepath to the folder of input data\n",
    "folder = data_fp + 'Raw/kaskawulsh/'                # Filepath of the folder containing the messy files\n",
    "file_type = 'txt'                                   # Choose the file type (csv, txt or xlsx)"
   ]
  },
  {
   "cell_type": "code",
   "execution_count": 101,
   "id": "73124d62",
   "metadata": {},
   "outputs": [
    {
     "data": {
      "text/html": [
       "<div>\n",
       "<style scoped>\n",
       "    .dataframe tbody tr th:only-of-type {\n",
       "        vertical-align: middle;\n",
       "    }\n",
       "\n",
       "    .dataframe tbody tr th {\n",
       "        vertical-align: top;\n",
       "    }\n",
       "\n",
       "    .dataframe thead th {\n",
       "        text-align: right;\n",
       "    }\n",
       "</style>\n",
       "<table border=\"1\" class=\"dataframe\">\n",
       "  <thead>\n",
       "    <tr style=\"text-align: right;\">\n",
       "      <th></th>\n",
       "      <th>Pressure</th>\n",
       "      <th>Temperature</th>\n",
       "      <th>RH</th>\n",
       "      <th>Wind</th>\n",
       "      <th>Gust</th>\n",
       "      <th>Winddir</th>\n",
       "      <th>SWin</th>\n",
       "      <th>SWout</th>\n",
       "      <th>LWin</th>\n",
       "      <th>LWout</th>\n",
       "    </tr>\n",
       "    <tr>\n",
       "      <th>DateTime</th>\n",
       "      <th></th>\n",
       "      <th></th>\n",
       "      <th></th>\n",
       "      <th></th>\n",
       "      <th></th>\n",
       "      <th></th>\n",
       "      <th></th>\n",
       "      <th></th>\n",
       "      <th></th>\n",
       "      <th></th>\n",
       "    </tr>\n",
       "  </thead>\n",
       "  <tbody>\n",
       "    <tr>\n",
       "      <th>2019-09-05 19:17:55</th>\n",
       "      <td>818.45</td>\n",
       "      <td>3.985</td>\n",
       "      <td>64.8</td>\n",
       "      <td>0.195</td>\n",
       "      <td>0.195</td>\n",
       "      <td>335.537</td>\n",
       "      <td>454.88</td>\n",
       "      <td>70.14</td>\n",
       "      <td>229.27</td>\n",
       "      <td>397.36</td>\n",
       "    </tr>\n",
       "    <tr>\n",
       "      <th>2019-09-05 19:30:00</th>\n",
       "      <td>818.35</td>\n",
       "      <td>4.584</td>\n",
       "      <td>61.6</td>\n",
       "      <td>0.780</td>\n",
       "      <td>2.144</td>\n",
       "      <td>339.749</td>\n",
       "      <td>478.84</td>\n",
       "      <td>79.52</td>\n",
       "      <td>231.67</td>\n",
       "      <td>405.73</td>\n",
       "    </tr>\n",
       "    <tr>\n",
       "      <th>2019-09-05 19:35:00</th>\n",
       "      <td>818.25</td>\n",
       "      <td>4.584</td>\n",
       "      <td>61.4</td>\n",
       "      <td>0.780</td>\n",
       "      <td>1.754</td>\n",
       "      <td>300.439</td>\n",
       "      <td>482.98</td>\n",
       "      <td>82.17</td>\n",
       "      <td>233.61</td>\n",
       "      <td>406.39</td>\n",
       "    </tr>\n",
       "    <tr>\n",
       "      <th>2019-09-05 19:40:00</th>\n",
       "      <td>818.45</td>\n",
       "      <td>4.740</td>\n",
       "      <td>62.3</td>\n",
       "      <td>0.974</td>\n",
       "      <td>2.534</td>\n",
       "      <td>275.169</td>\n",
       "      <td>495.79</td>\n",
       "      <td>78.50</td>\n",
       "      <td>233.16</td>\n",
       "      <td>400.72</td>\n",
       "    </tr>\n",
       "    <tr>\n",
       "      <th>2019-09-05 19:45:00</th>\n",
       "      <td>818.25</td>\n",
       "      <td>5.565</td>\n",
       "      <td>59.5</td>\n",
       "      <td>0.974</td>\n",
       "      <td>2.729</td>\n",
       "      <td>206.376</td>\n",
       "      <td>503.76</td>\n",
       "      <td>79.57</td>\n",
       "      <td>234.13</td>\n",
       "      <td>408.96</td>\n",
       "    </tr>\n",
       "    <tr>\n",
       "      <th>...</th>\n",
       "      <td>...</td>\n",
       "      <td>...</td>\n",
       "      <td>...</td>\n",
       "      <td>...</td>\n",
       "      <td>...</td>\n",
       "      <td>...</td>\n",
       "      <td>...</td>\n",
       "      <td>...</td>\n",
       "      <td>...</td>\n",
       "      <td>...</td>\n",
       "    </tr>\n",
       "    <tr>\n",
       "      <th>2025-07-16 08:00:00</th>\n",
       "      <td>821.55</td>\n",
       "      <td>8.120</td>\n",
       "      <td>48.2</td>\n",
       "      <td>15.436</td>\n",
       "      <td>23.154</td>\n",
       "      <td>233.051</td>\n",
       "      <td>-3.63</td>\n",
       "      <td>0.49</td>\n",
       "      <td>300.24</td>\n",
       "      <td>352.49</td>\n",
       "    </tr>\n",
       "    <tr>\n",
       "      <th>2025-07-16 09:00:00</th>\n",
       "      <td>821.65</td>\n",
       "      <td>7.670</td>\n",
       "      <td>51.1</td>\n",
       "      <td>15.436</td>\n",
       "      <td>22.452</td>\n",
       "      <td>238.667</td>\n",
       "      <td>-4.03</td>\n",
       "      <td>0.06</td>\n",
       "      <td>298.23</td>\n",
       "      <td>350.00</td>\n",
       "    </tr>\n",
       "    <tr>\n",
       "      <th>2025-07-16 10:00:00</th>\n",
       "      <td>821.55</td>\n",
       "      <td>7.895</td>\n",
       "      <td>53.5</td>\n",
       "      <td>14.734</td>\n",
       "      <td>22.452</td>\n",
       "      <td>237.263</td>\n",
       "      <td>-2.75</td>\n",
       "      <td>0.20</td>\n",
       "      <td>313.48</td>\n",
       "      <td>352.55</td>\n",
       "    </tr>\n",
       "    <tr>\n",
       "      <th>2025-07-16 11:00:00</th>\n",
       "      <td>821.45</td>\n",
       "      <td>7.594</td>\n",
       "      <td>56.1</td>\n",
       "      <td>9.823</td>\n",
       "      <td>17.541</td>\n",
       "      <td>209.184</td>\n",
       "      <td>-3.34</td>\n",
       "      <td>0.23</td>\n",
       "      <td>309.68</td>\n",
       "      <td>350.61</td>\n",
       "    </tr>\n",
       "    <tr>\n",
       "      <th>2025-07-16 12:00:00</th>\n",
       "      <td>821.15</td>\n",
       "      <td>7.795</td>\n",
       "      <td>55.6</td>\n",
       "      <td>4.911</td>\n",
       "      <td>16.839</td>\n",
       "      <td>192.337</td>\n",
       "      <td>-3.81</td>\n",
       "      <td>-0.16</td>\n",
       "      <td>302.98</td>\n",
       "      <td>347.09</td>\n",
       "    </tr>\n",
       "  </tbody>\n",
       "</table>\n",
       "<p>52957 rows × 10 columns</p>\n",
       "</div>"
      ],
      "text/plain": [
       "                     Pressure  Temperature    RH    Wind    Gust  Winddir  \\\n",
       "DateTime                                                                    \n",
       "2019-09-05 19:17:55    818.45        3.985  64.8   0.195   0.195  335.537   \n",
       "2019-09-05 19:30:00    818.35        4.584  61.6   0.780   2.144  339.749   \n",
       "2019-09-05 19:35:00    818.25        4.584  61.4   0.780   1.754  300.439   \n",
       "2019-09-05 19:40:00    818.45        4.740  62.3   0.974   2.534  275.169   \n",
       "2019-09-05 19:45:00    818.25        5.565  59.5   0.974   2.729  206.376   \n",
       "...                       ...          ...   ...     ...     ...      ...   \n",
       "2025-07-16 08:00:00    821.55        8.120  48.2  15.436  23.154  233.051   \n",
       "2025-07-16 09:00:00    821.65        7.670  51.1  15.436  22.452  238.667   \n",
       "2025-07-16 10:00:00    821.55        7.895  53.5  14.734  22.452  237.263   \n",
       "2025-07-16 11:00:00    821.45        7.594  56.1   9.823  17.541  209.184   \n",
       "2025-07-16 12:00:00    821.15        7.795  55.6   4.911  16.839  192.337   \n",
       "\n",
       "                       SWin  SWout    LWin   LWout  \n",
       "DateTime                                            \n",
       "2019-09-05 19:17:55  454.88  70.14  229.27  397.36  \n",
       "2019-09-05 19:30:00  478.84  79.52  231.67  405.73  \n",
       "2019-09-05 19:35:00  482.98  82.17  233.61  406.39  \n",
       "2019-09-05 19:40:00  495.79  78.50  233.16  400.72  \n",
       "2019-09-05 19:45:00  503.76  79.57  234.13  408.96  \n",
       "...                     ...    ...     ...     ...  \n",
       "2025-07-16 08:00:00   -3.63   0.49  300.24  352.49  \n",
       "2025-07-16 09:00:00   -4.03   0.06  298.23  350.00  \n",
       "2025-07-16 10:00:00   -2.75   0.20  313.48  352.55  \n",
       "2025-07-16 11:00:00   -3.34   0.23  309.68  350.61  \n",
       "2025-07-16 12:00:00   -3.81  -0.16  302.98  347.09  \n",
       "\n",
       "[52957 rows x 10 columns]"
      ]
     },
     "execution_count": 101,
     "metadata": {},
     "output_type": "execute_result"
    }
   ],
   "source": [
    "# Concatenate files\n",
    "fn_list = os.listdir(folder)\n",
    "fn_list = [f for f in fn_list if file_type in f]\n",
    "col_names = ['DateTime','Pressure','Temperature','RH','Wind','Gust','Winddir','SWin','SWout','LWin','LWout']\n",
    "for fn in fn_list:\n",
    "    # Open the file\n",
    "    df = pd.read_csv(folder + fn, index_col=0,          # Base arguments, assumes column 0 is the datetime\n",
    "                            sep='\\t',                   # Delimiter/separater\n",
    "                            skiprows=3,                 # How many rows of metadata\n",
    "                            encoding='ISO-8859-1',      # Encoding\n",
    "                            engine='python',            # Engine to open the file\n",
    "                            names = col_names)          # Specify the names of the columns\n",
    "    \n",
    "    # Get timezone\n",
    "    with open(folder + fn, 'r') as f:\n",
    "        lines = f.readlines()\n",
    "    second_line = lines[1]\n",
    "    zone_minutes = int(second_line.split('UTC')[-1].split(' ')[1])\n",
    "    timezone = pd.Timedelta(minutes=zone_minutes)\n",
    "    \n",
    "    # Process the datetime column to be in the right format\n",
    "    if len(str(df.index[0])) > 8:\n",
    "        df.index = pd.to_datetime(df.index, format='%m/%d/%y %H:%M:%S') - timezone\n",
    "    else:\n",
    "        df.index = pd.to_datetime(df.index, format='%m/%d/%y') - timezone\n",
    "\n",
    "    # Concatenate files\n",
    "    if fn == fn_list[0]:\n",
    "        df_all = df.copy(deep=True)\n",
    "    else:\n",
    "        df_all = pd.concat([df_all, df],axis=0)\n",
    "df_all = df_all.sort_index()\n",
    "df_all"
   ]
  },
  {
   "cell_type": "markdown",
   "id": "5d55cbfb",
   "metadata": {},
   "source": [
    "## Inspect data fullness\n",
    "\n",
    "This plot can help you decide whether to process the data all together or split it into separate files (e.g., if there is a large data gap)"
   ]
  },
  {
   "cell_type": "code",
   "execution_count": 102,
   "id": "c1993bbd",
   "metadata": {},
   "outputs": [
    {
     "data": {
      "text/plain": [
       "Pressure       52957\n",
       "Temperature    52957\n",
       "RH             52957\n",
       "Wind           52957\n",
       "Gust           52957\n",
       "Winddir        52957\n",
       "SWin           51151\n",
       "SWout          52451\n",
       "LWin           52957\n",
       "LWout          52957\n",
       "dtype: int64"
      ]
     },
     "execution_count": 102,
     "metadata": {},
     "output_type": "execute_result"
    }
   ],
   "source": [
    "# Print data counts\n",
    "df_all.count()"
   ]
  },
  {
   "cell_type": "code",
   "execution_count": 90,
   "id": "f43e7643",
   "metadata": {},
   "outputs": [
    {
     "data": {
      "text/plain": [
       "<matplotlib.colorbar.Colorbar at 0x7f162a9b7f90>"
      ]
     },
     "execution_count": 90,
     "metadata": {},
     "output_type": "execute_result"
    },
    {
     "data": {
      "image/png": "[encoded data removed]",
      "text/plain": [
       "<Figure size 640x480 with 2 Axes>"
      ]
     },
     "metadata": {},
     "output_type": "display_data"
    }
   ],
   "source": [
    "fig, ax = plt.subplots()\n",
    "all_percentage = []\n",
    "for row in df_all.index:\n",
    "    percent = df_all.loc[row].count() / len(df_all.columns)\n",
    "    all_percentage.append(percent)\n",
    "cmap = plt.get_cmap('magma_r')\n",
    "norm = mpl.colors.Normalize(vmin=0, vmax=1)\n",
    "ax.bar(df_all.index, 1, pd.Timedelta(hours=1), color=cmap(norm(all_percentage)))\n",
    "ax.set_xlim(df_all.index[0], df_all.index[-1])\n",
    "ax.set_ylim(0,1)\n",
    "ax.set_yticks([])\n",
    "sm = mpl.cm.ScalarMappable(cmap=cmap, norm=norm)\n",
    "sm.set_array([])\n",
    "fig.colorbar(sm, ax=ax, label='Data percentage',orientation='vertical')"
   ]
  },
  {
   "cell_type": "code",
   "execution_count": 103,
   "id": "fddb307a",
   "metadata": {},
   "outputs": [
    {
     "name": "stdout",
     "output_type": "stream",
     "text": [
      "Pressure       802.850\n",
      "Temperature     -8.364\n",
      "RH              82.900\n",
      "Wind             8.420\n",
      "Gust            18.242\n",
      "Winddir        299.035\n",
      "SWin               NaN\n",
      "SWout            0.000\n",
      "LWin           189.550\n",
      "LWout          263.370\n",
      "Name: 2024-04-11 05:00:00, dtype: float64\n"
     ]
    }
   ],
   "source": [
    "print(df_all.iloc[np.where(np.isnan(df_all['SWin']))[0][0]])"
   ]
  },
  {
   "cell_type": "code",
   "execution_count": 106,
   "id": "9436c493",
   "metadata": {},
   "outputs": [
    {
     "name": "stdout",
     "output_type": "stream",
     "text": [
      "Total n points:  40279\n"
     ]
    },
    {
     "data": {
      "text/plain": [
       "Pressure       40266\n",
       "Temperature    40266\n",
       "RH             40266\n",
       "Wind           40266\n",
       "Gust           40266\n",
       "Winddir        40266\n",
       "SWin           40266\n",
       "SWout          40266\n",
       "LWin           40266\n",
       "LWout          40266\n",
       "dtype: int64"
      ]
     },
     "execution_count": 106,
     "metadata": {},
     "output_type": "execute_result"
    }
   ],
   "source": [
    "time = pd.date_range('2019-09-05 20:00', '2024-04-10 02:00', freq='h')\n",
    "# Fill random missing timestamps with Nans (will be interpolated out in processing)\n",
    "for i in time:\n",
    "    if i not in df_all.index:\n",
    "        df_all.loc[i] = [np.nan] * len(df_all.columns)\n",
    "df_all = df_all.loc[time]\n",
    "print('Total n points: ',len(df_all.index))\n",
    "df_all.count()"
   ]
  },
  {
   "cell_type": "code",
   "execution_count": 105,
   "id": "b98d2555",
   "metadata": {},
   "outputs": [],
   "source": [
    "df_all.to_csv(folder + 'preprocessed.csv')"
   ]
  },
  {
   "cell_type": "code",
   "execution_count": null,
   "id": "d35e97de",
   "metadata": {},
   "outputs": [],
   "source": []
  }
 ],
 "metadata": {
  "kernelspec": {
   "display_name": "eb_env",
   "language": "python",
   "name": "python3"
  },
  "language_info": {
   "codemirror_mode": {
    "name": "ipython",
    "version": 3
   },
   "file_extension": ".py",
   "mimetype": "text/x-python",
   "name": "python",
   "nbconvert_exporter": "python",
   "pygments_lexer": "ipython3",
   "version": "3.11.0"
  }
 },
 "nbformat": 4,
 "nbformat_minor": 5
}
