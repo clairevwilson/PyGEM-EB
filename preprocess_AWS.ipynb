{
 "cells": [
  {
   "cell_type": "markdown",
   "id": "fab45675",
   "metadata": {},
   "source": [
    "# Input Data Preprocessing\n",
    "This Jupyter notebook contains code to process weather station data into a single .csv from multiple messy files. Once you complete this script, move to process_AWS to complete the data cleaning process."
   ]
  },
  {
   "cell_type": "code",
   "execution_count": 73,
   "id": "e4c5ca84",
   "metadata": {},
   "outputs": [],
   "source": [
    "import numpy as np\n",
    "import os\n",
    "import xarray as xr\n",
    "import logging\n",
    "import pandas as pd\n",
    "import matplotlib.pyplot as plt\n",
    "import matplotlib as mpl\n",
    "logging.getLogger('matplotlib').setLevel(logging.WARNING)"
   ]
  },
  {
   "cell_type": "markdown",
   "id": "6000adcd",
   "metadata": {},
   "source": [
    "## Set-up: Define variables\n",
    "Fill out the cell below to set up the glacier being accessed and the filepaths."
   ]
  },
  {
   "cell_type": "code",
   "execution_count": 74,
   "id": "3a775ae2",
   "metadata": {},
   "outputs": [],
   "source": [
    "# FILEPATHS\n",
    "data_fp = '../climate_data/AWS/Raw/'                # Filepath to the folder of input data\n",
    "folder = data_fp + 'naluday/'                       # Filepath of the folder containing the messy files\n",
    "file_type = 'txt'                                   # Choose the file type (csv, txt or xlsx)"
   ]
  },
  {
   "cell_type": "code",
   "execution_count": null,
   "id": "38d3d94a",
   "metadata": {},
   "outputs": [],
   "source": []
  },
  {
   "cell_type": "markdown",
   "id": "eb395958",
   "metadata": {},
   "source": [
    "Time zone: UTC -420 minutes\n",
    "Date_Time\tPressure_20290337_mbar\tTemperature_20339015_deg_C\tRH_20339015_%\tWind Speed_20339186_m/s\tGust Speed_20339186_m/s\tWind Direction_20339186_deg\tSDI-12_SDI_0_0_na\tSDI-12_SDI_0_1_na\tSDI-12_SDI_0_2_na\tSDI-12_SDI_0_3_na\t"
   ]
  },
  {
   "cell_type": "code",
   "execution_count": 77,
   "id": "73124d62",
   "metadata": {},
   "outputs": [
    {
     "data": {
      "text/html": [
       "<div>\n",
       "<style scoped>\n",
       "    .dataframe tbody tr th:only-of-type {\n",
       "        vertical-align: middle;\n",
       "    }\n",
       "\n",
       "    .dataframe tbody tr th {\n",
       "        vertical-align: top;\n",
       "    }\n",
       "\n",
       "    .dataframe thead th {\n",
       "        text-align: right;\n",
       "    }\n",
       "</style>\n",
       "<table border=\"1\" class=\"dataframe\">\n",
       "  <thead>\n",
       "    <tr style=\"text-align: right;\">\n",
       "      <th></th>\n",
       "      <th>Pressure</th>\n",
       "      <th>Temperature</th>\n",
       "      <th>RH</th>\n",
       "      <th>Wind</th>\n",
       "      <th>Gust</th>\n",
       "      <th>Winddir</th>\n",
       "      <th>SWin</th>\n",
       "      <th>SWout</th>\n",
       "      <th>LWin</th>\n",
       "      <th>LWout</th>\n",
       "    </tr>\n",
       "    <tr>\n",
       "      <th>DateTime</th>\n",
       "      <th></th>\n",
       "      <th></th>\n",
       "      <th></th>\n",
       "      <th></th>\n",
       "      <th></th>\n",
       "      <th></th>\n",
       "      <th></th>\n",
       "      <th></th>\n",
       "      <th></th>\n",
       "      <th></th>\n",
       "    </tr>\n",
       "  </thead>\n",
       "  <tbody>\n",
       "    <tr>\n",
       "      <th>2019-08-28 18:00:00</th>\n",
       "      <td>15.796</td>\n",
       "      <td>-0.000</td>\n",
       "      <td>-0.000</td>\n",
       "      <td>-2.000</td>\n",
       "      <td>-2.000</td>\n",
       "      <td>NaN</td>\n",
       "      <td>NaN</td>\n",
       "      <td>NaN</td>\n",
       "      <td>NaN</td>\n",
       "      <td>NaN</td>\n",
       "    </tr>\n",
       "    <tr>\n",
       "      <th>2019-08-28 19:00:00</th>\n",
       "      <td>16.463</td>\n",
       "      <td>-0.000</td>\n",
       "      <td>-0.000</td>\n",
       "      <td>-2.000</td>\n",
       "      <td>-2.000</td>\n",
       "      <td>NaN</td>\n",
       "      <td>NaN</td>\n",
       "      <td>NaN</td>\n",
       "      <td>NaN</td>\n",
       "      <td>NaN</td>\n",
       "    </tr>\n",
       "    <tr>\n",
       "      <th>2019-08-29 20:00:00</th>\n",
       "      <td>20.984</td>\n",
       "      <td>0.016</td>\n",
       "      <td>20.562</td>\n",
       "      <td>NaN</td>\n",
       "      <td>NaN</td>\n",
       "      <td>NaN</td>\n",
       "      <td>NaN</td>\n",
       "      <td>NaN</td>\n",
       "      <td>NaN</td>\n",
       "      <td>NaN</td>\n",
       "    </tr>\n",
       "    <tr>\n",
       "      <th>2019-08-31 00:00:00</th>\n",
       "      <td>19.603</td>\n",
       "      <td>49.200</td>\n",
       "      <td>0.000</td>\n",
       "      <td>0.000</td>\n",
       "      <td>NaN</td>\n",
       "      <td>NaN</td>\n",
       "      <td>NaN</td>\n",
       "      <td>NaN</td>\n",
       "      <td>NaN</td>\n",
       "      <td>NaN</td>\n",
       "    </tr>\n",
       "    <tr>\n",
       "      <th>2019-08-31 01:00:00</th>\n",
       "      <td>19.484</td>\n",
       "      <td>49.400</td>\n",
       "      <td>0.000</td>\n",
       "      <td>0.000</td>\n",
       "      <td>NaN</td>\n",
       "      <td>NaN</td>\n",
       "      <td>NaN</td>\n",
       "      <td>NaN</td>\n",
       "      <td>NaN</td>\n",
       "      <td>NaN</td>\n",
       "    </tr>\n",
       "    <tr>\n",
       "      <th>...</th>\n",
       "      <td>...</td>\n",
       "      <td>...</td>\n",
       "      <td>...</td>\n",
       "      <td>...</td>\n",
       "      <td>...</td>\n",
       "      <td>...</td>\n",
       "      <td>...</td>\n",
       "      <td>...</td>\n",
       "      <td>...</td>\n",
       "      <td>...</td>\n",
       "    </tr>\n",
       "    <tr>\n",
       "      <th>2025-07-16 07:00:00</th>\n",
       "      <td>863.450</td>\n",
       "      <td>8.045</td>\n",
       "      <td>69.500</td>\n",
       "      <td>3.508</td>\n",
       "      <td>7.016</td>\n",
       "      <td>131.969</td>\n",
       "      <td>-1.56</td>\n",
       "      <td>0.01</td>\n",
       "      <td>329.74</td>\n",
       "      <td>353.92</td>\n",
       "    </tr>\n",
       "    <tr>\n",
       "      <th>2025-07-16 08:00:00</th>\n",
       "      <td>863.150</td>\n",
       "      <td>8.145</td>\n",
       "      <td>69.200</td>\n",
       "      <td>4.210</td>\n",
       "      <td>7.016</td>\n",
       "      <td>131.969</td>\n",
       "      <td>-2.05</td>\n",
       "      <td>0.00</td>\n",
       "      <td>324.64</td>\n",
       "      <td>351.10</td>\n",
       "    </tr>\n",
       "    <tr>\n",
       "      <th>2025-07-16 09:00:00</th>\n",
       "      <td>863.550</td>\n",
       "      <td>8.568</td>\n",
       "      <td>66.300</td>\n",
       "      <td>1.403</td>\n",
       "      <td>5.613</td>\n",
       "      <td>134.776</td>\n",
       "      <td>-1.82</td>\n",
       "      <td>0.04</td>\n",
       "      <td>331.53</td>\n",
       "      <td>351.61</td>\n",
       "    </tr>\n",
       "    <tr>\n",
       "      <th>2025-07-16 10:00:00</th>\n",
       "      <td>863.250</td>\n",
       "      <td>8.394</td>\n",
       "      <td>66.500</td>\n",
       "      <td>0.702</td>\n",
       "      <td>5.613</td>\n",
       "      <td>138.988</td>\n",
       "      <td>-2.73</td>\n",
       "      <td>0.00</td>\n",
       "      <td>324.50</td>\n",
       "      <td>348.81</td>\n",
       "    </tr>\n",
       "    <tr>\n",
       "      <th>2025-07-16 11:00:00</th>\n",
       "      <td>862.950</td>\n",
       "      <td>8.220</td>\n",
       "      <td>64.600</td>\n",
       "      <td>0.000</td>\n",
       "      <td>2.105</td>\n",
       "      <td>138.988</td>\n",
       "      <td>-1.82</td>\n",
       "      <td>0.00</td>\n",
       "      <td>325.42</td>\n",
       "      <td>347.52</td>\n",
       "    </tr>\n",
       "  </tbody>\n",
       "</table>\n",
       "<p>50164 rows × 10 columns</p>\n",
       "</div>"
      ],
      "text/plain": [
       "                     Pressure  Temperature      RH   Wind   Gust  Winddir  \\\n",
       "DateTime                                                                    \n",
       "2019-08-28 18:00:00    15.796       -0.000  -0.000 -2.000 -2.000      NaN   \n",
       "2019-08-28 19:00:00    16.463       -0.000  -0.000 -2.000 -2.000      NaN   \n",
       "2019-08-29 20:00:00    20.984        0.016  20.562    NaN    NaN      NaN   \n",
       "2019-08-31 00:00:00    19.603       49.200   0.000  0.000    NaN      NaN   \n",
       "2019-08-31 01:00:00    19.484       49.400   0.000  0.000    NaN      NaN   \n",
       "...                       ...          ...     ...    ...    ...      ...   \n",
       "2025-07-16 07:00:00   863.450        8.045  69.500  3.508  7.016  131.969   \n",
       "2025-07-16 08:00:00   863.150        8.145  69.200  4.210  7.016  131.969   \n",
       "2025-07-16 09:00:00   863.550        8.568  66.300  1.403  5.613  134.776   \n",
       "2025-07-16 10:00:00   863.250        8.394  66.500  0.702  5.613  138.988   \n",
       "2025-07-16 11:00:00   862.950        8.220  64.600  0.000  2.105  138.988   \n",
       "\n",
       "                     SWin  SWout    LWin   LWout  \n",
       "DateTime                                          \n",
       "2019-08-28 18:00:00   NaN    NaN     NaN     NaN  \n",
       "2019-08-28 19:00:00   NaN    NaN     NaN     NaN  \n",
       "2019-08-29 20:00:00   NaN    NaN     NaN     NaN  \n",
       "2019-08-31 00:00:00   NaN    NaN     NaN     NaN  \n",
       "2019-08-31 01:00:00   NaN    NaN     NaN     NaN  \n",
       "...                   ...    ...     ...     ...  \n",
       "2025-07-16 07:00:00 -1.56   0.01  329.74  353.92  \n",
       "2025-07-16 08:00:00 -2.05   0.00  324.64  351.10  \n",
       "2025-07-16 09:00:00 -1.82   0.04  331.53  351.61  \n",
       "2025-07-16 10:00:00 -2.73   0.00  324.50  348.81  \n",
       "2025-07-16 11:00:00 -1.82   0.00  325.42  347.52  \n",
       "\n",
       "[50164 rows x 10 columns]"
      ]
     },
     "execution_count": 77,
     "metadata": {},
     "output_type": "execute_result"
    }
   ],
   "source": [
    "# Concatenate files in folder\n",
    "fn_list = os.listdir(folder)\n",
    "fn_list = [f for f in fn_list if file_type in f]\n",
    "# \n",
    "col_names = ['DateTime','Pressure','Temperature','RH','Wind','Gust','Winddir','SWin','SWout','LWin','LWout']\n",
    "for fn in fn_list:\n",
    "    # Open the file\n",
    "    df = pd.read_csv(folder + fn, index_col=0,          # Base arguments, assumes column 0 is the datetime\n",
    "                            sep='\\t',                   # Delimiter/separater\n",
    "                            skiprows=3,                 # How many rows of metadata\n",
    "                            encoding='ISO-8859-1',      # Encoding\n",
    "                            engine='python',            # Engine to open the file\n",
    "                            names = col_names)          # Specify the names of the columns\n",
    "    \n",
    "    # Get timezone\n",
    "    with open(folder + fn, 'r') as f:\n",
    "        lines = f.readlines()\n",
    "    second_line = lines[1]\n",
    "    zone_minutes = int(second_line.split('UTC')[-1].split(' ')[1])\n",
    "    timezone = pd.Timedelta(minutes=zone_minutes)\n",
    "\n",
    "    # Skip empty files\n",
    "    if len(df.index) == 0:\n",
    "        continue\n",
    "    \n",
    "    # Process the datetime column to be in the right format\n",
    "    if len(str(df.index[0])) > 8:\n",
    "        df.index = pd.to_datetime(df.index, format='%m/%d/%y %H:%M:%S') - timezone\n",
    "    else:\n",
    "        df.index = pd.to_datetime(df.index, format='%m/%d/%y') - timezone\n",
    "\n",
    "    # Concatenate files\n",
    "    if fn == fn_list[0]:\n",
    "        df_all = df.copy(deep=True)\n",
    "    else:\n",
    "        df_all = pd.concat([df_all, df],axis=0)\n",
    "df_all = df_all.sort_index()\n",
    "df_all = df_all[pd.to_datetime(df_all.index).second == 0]\n",
    "df_all"
   ]
  },
  {
   "cell_type": "markdown",
   "id": "5d55cbfb",
   "metadata": {},
   "source": [
    "## Inspect data fullness\n",
    "\n",
    "This plot can help you decide whether to process the data all together or split it into separate files (e.g., if there is a large data gap)"
   ]
  },
  {
   "cell_type": "code",
   "execution_count": 78,
   "id": "c1993bbd",
   "metadata": {},
   "outputs": [
    {
     "data": {
      "text/plain": [
       "Pressure       50164\n",
       "Temperature    50164\n",
       "RH             50164\n",
       "Wind           50163\n",
       "Gust           50125\n",
       "Winddir        50123\n",
       "SWin           32974\n",
       "SWout          36289\n",
       "LWin           37272\n",
       "LWout          37272\n",
       "dtype: int64"
      ]
     },
     "execution_count": 78,
     "metadata": {},
     "output_type": "execute_result"
    }
   ],
   "source": [
    "# Print data counts\n",
    "df_all.count()"
   ]
  },
  {
   "cell_type": "code",
   "execution_count": null,
   "id": "8c188005",
   "metadata": {},
   "outputs": [],
   "source": [
    "# df_all = df_all.drop(columns=['SWout','LWout'])"
   ]
  },
  {
   "cell_type": "code",
   "execution_count": 66,
   "id": "f43e7643",
   "metadata": {},
   "outputs": [
    {
     "data": {
      "text/plain": [
       "<matplotlib.colorbar.Colorbar at 0x222864e0990>"
      ]
     },
     "execution_count": 66,
     "metadata": {},
     "output_type": "execute_result"
    },
    {
     "data": {
      "image/png": "[encoded data removed]",
      "text/plain": [
       "<Figure size 640x480 with 2 Axes>"
      ]
     },
     "metadata": {},
     "output_type": "display_data"
    }
   ],
   "source": [
    "plot = False\n",
    "if plot:\n",
    "    fig, ax = plt.subplots()\n",
    "    all_percentage = []\n",
    "    for row in df_all.index:\n",
    "        percent = df_all.loc[row].count() / len(df_all.columns)\n",
    "        all_percentage.append(percent)\n",
    "    cmap = plt.get_cmap('magma_r')\n",
    "    norm = mpl.colors.Normalize(vmin=0, vmax=1)\n",
    "    ax.bar(df_all.index, 1, pd.Timedelta(hours=1), color=cmap(norm(all_percentage)))\n",
    "    ax.set_xlim(df_all.index[0], df_all.index[-1])\n",
    "    ax.set_ylim(0,1)\n",
    "    ax.set_yticks([])\n",
    "    sm = mpl.cm.ScalarMappable(cmap=cmap, norm=norm)\n",
    "    sm.set_array([])\n",
    "    fig.colorbar(sm, ax=ax, label='Data percentage',orientation='vertical')\n",
    "    plt.show()"
   ]
  },
  {
   "cell_type": "code",
   "execution_count": null,
   "id": "059440f9",
   "metadata": {},
   "outputs": [
    {
     "name": "stdout",
     "output_type": "stream",
     "text": [
      "20.659\n",
      "True True 2021-07-25 08:00:00\n",
      "0.0\n",
      "True True 2024-11-01 15:00:00\n",
      "Found 2 continuous periods\n",
      "[(Timestamp('2021-07-25 08:00:00'), Timestamp('2023-08-08 05:00:00')), (Timestamp('2024-11-01 15:00:00'), Timestamp('2025-07-16 11:00:00'))]\n"
     ]
    }
   ],
   "source": [
    "def find_data_periods(df, min_months=4, coverage_threshold=0.9):\n",
    "    df = df.sort_index()\n",
    "    min_hours = int(min_months * 30 * 24)  # ~4 months in hours\n",
    "\n",
    "    # Mask: only rows where all variables are present\n",
    "    is_complete = df.notna().all(axis=1)\n",
    "\n",
    "    # Group by breaks in continuity\n",
    "    block_ids = (~is_complete).cumsum()\n",
    "    blocks = df[is_complete].groupby(block_ids)\n",
    "\n",
    "    results = []\n",
    "    for _, block in blocks:\n",
    "        if len(block) < min_hours:\n",
    "            continue\n",
    "\n",
    "        start_ok = block.iloc[0].notna().all()\n",
    "        end_ok = block.iloc[-1].notna().all()\n",
    "        print(block.iloc[0]['Wind'])\n",
    "\n",
    "        coverage = block.notna().sum().sum() / block.size\n",
    "\n",
    "        if block.index[0].second != 0:\n",
    "            block = block.iloc[1:]\n",
    "        if block.index[-1].second != 0:\n",
    "            block = block.iloc[:-1]\n",
    "\n",
    "        if start_ok and end_ok and coverage >= coverage_threshold:\n",
    "            results.append((block.index[0], block.index[-1]))\n",
    "\n",
    "    print(f'Found {len(results)} continuous periods')\n",
    "    return results\n",
    "\n",
    "blocks = find_data_periods(df_all)\n",
    "print(blocks)"
   ]
  },
  {
   "cell_type": "code",
   "execution_count": 80,
   "id": "9436c493",
   "metadata": {},
   "outputs": [
    {
     "name": "stdout",
     "output_type": "stream",
     "text": [
      "Total n points in block 0:  17854\n",
      "Total n points in block 1:  6165\n"
     ]
    }
   ],
   "source": [
    "# Fill random missing timestamps with Nans (will be interpolated out in processing)\n",
    "dfs = []\n",
    "for b,block in enumerate(blocks):\n",
    "    time = pd.date_range(block[0], block[1], freq='h')\n",
    "    block_df = df_all.reindex(time)\n",
    "    dfs.append(block_df.loc[time])\n",
    "    print(f'Total n points in block {b}: ',len(block_df.index))\n",
    "    dfs[-1].count()"
   ]
  },
  {
   "cell_type": "code",
   "execution_count": 81,
   "id": "b98d2555",
   "metadata": {},
   "outputs": [
    {
     "name": "stdout",
     "output_type": "stream",
     "text": [
      "Saved dataframe 0 to ../climate_data/AWS/Raw/naluday/preprocessed_2021.csv: 2021-07-25 to 2023-08-08\n",
      "Saved dataframe 1 to ../climate_data/AWS/Raw/naluday/preprocessed_2024.csv: 2024-11-01 to 2025-07-16\n"
     ]
    }
   ],
   "source": [
    "for d,df in enumerate(dfs):\n",
    "    start_year = df.index[0].year\n",
    "    fn = folder + f'preprocessed_{start_year}.csv'\n",
    "    df.to_csv(fn)\n",
    "    print(f'Saved dataframe {d} to {fn}: {df.index[0].date()} to {df.index[-2].date()}')"
   ]
  },
  {
   "cell_type": "code",
   "execution_count": null,
   "id": "d35e97de",
   "metadata": {},
   "outputs": [],
   "source": []
  }
 ],
 "metadata": {
  "kernelspec": {
   "display_name": "eb_env",
   "language": "python",
   "name": "python3"
  },
  "language_info": {
   "codemirror_mode": {
    "name": "ipython",
    "version": 3
   },
   "file_extension": ".py",
   "mimetype": "text/x-python",
   "name": "python",
   "nbconvert_exporter": "python",
   "pygments_lexer": "ipython3",
   "version": "3.11.13"
  }
 },
 "nbformat": 4,
 "nbformat_minor": 5
}
