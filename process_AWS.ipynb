{
 "cells": [
  {
   "cell_type": "markdown",
   "metadata": {},
   "source": [
    "# Input Data Processing\n",
    "This Jupyter notebook contains code to process automatic weather station (AWS) data to a standardized format for the PyGEM-EB model. The AWS dataset should be in a single comma/tab-separated file containing all timesteps and all data variables. If the data is not in that format, first use preprocess_AWS.ipynb. Note that this code may not be comprehensive for all errors that arise from the formatting of a specific dataset. "
   ]
  },
  {
   "cell_type": "code",
   "execution_count": 442,
   "metadata": {},
   "outputs": [],
   "source": [
    "import numpy as np\n",
    "import os\n",
    "import xarray as xr\n",
    "import logging\n",
    "import pandas as pd\n",
    "import matplotlib.pyplot as plt\n",
    "logging.getLogger('matplotlib').setLevel(logging.WARNING)"
   ]
  },
  {
   "cell_type": "markdown",
   "metadata": {},
   "source": [
    "## Set-up: Define variables\n",
    "Fill out the cell below to set up the glacier being accessed and the filepaths."
   ]
  },
  {
   "cell_type": "code",
   "execution_count": 443,
   "metadata": {},
   "outputs": [],
   "source": [
    "# GLACIER INFORMATION\n",
    "glac_name = 'kaskawulsh'                  # You choose: descriptive name for log and output (e.g. gulkanaB_2024)\n",
    "elev = 1800                     # Elevation of AWS [m a.s.l.]\n",
    "lat = 60.7421656                      # Latitude of AWS [decimal degrees]\n",
    "lon = -139.2359388                  # Longitude of AWS [decimal degrees]\n",
    "\n",
    "# FILEPATHS\n",
    "data_fp = '../climate_data/AWS/'                    # Filepath to the folder of input data\n",
    "data_fn = 'Raw/kaskawulsh/preprocessed.csv'                       # Filename of input data (relative to this notebook)\n",
    "export_fp = '../climate_data/AWS/Preprocessed/'     # Filepath to the folder to save this data\n",
    "export_fp += '/'+ glac_name +'/'\n",
    "if not os.path.exists(export_fp):\n",
    "    os.mkdir(export_fp)                             # Make folder for this glacier\n",
    "export_fn = glac_name + '.csv'                      # Name of output file relative to export_fp\n",
    "\n",
    "# TIMEZONE\n",
    "timezone = 'GMT-00'             # Timezone of output data (should be local time)\n",
    "input_timezone = 'GMT-00'       # Time zone of input data\n",
    "\n",
    "# MINIMUM DATA PERCENTAGE\n",
    "data_min_percentage = 0.8       # Below this threshold of data, AWS data will be thrown out"
   ]
  },
  {
   "cell_type": "markdown",
   "metadata": {},
   "source": [
    "## 1. Load Data\n",
    "From the output of the first cell, make sure the columns have been properly loaded. \n",
    "\n",
    "The cell below contains a dictionary with the possible for each variable. If the column names you want to use are missing, add those to the \"names\" dictionary.\n",
    "\n",
    "Also specify the name of the time column and any NaN values specific to this dataset."
   ]
  },
  {
   "cell_type": "code",
   "execution_count": 444,
   "metadata": {},
   "outputs": [
    {
     "name": "stdout",
     "output_type": "stream",
     "text": [
      "['Unnamed: 0' 'Pressure' 'Temperature' 'RH' 'Wind' 'Gust' 'Winddir' 'SWin'\n",
      " 'SWout' 'LWin' 'LWout']\n"
     ]
    }
   ],
   "source": [
    "# Read in the data and make sure the columns were correctly loaded\n",
    "# NOTE this step is likely to cause errors that can be fixed by adjusting the input arguments, for example delim_whitespace\n",
    "rows_to_skip = 0     # Number of rows that contain text at the beginning of the file (34 for Storglaciaren), sep='\\t'\n",
    "df = pd.read_csv(data_fp + data_fn,skiprows=rows_to_skip,sep=',') \n",
    "print(df.columns.to_numpy())"
   ]
  },
  {
   "cell_type": "code",
   "execution_count": 445,
   "metadata": {},
   "outputs": [],
   "source": [
    "# Fill out after executing above to check the variable names for time and precipitation\n",
    "time_vn = 'Unnamed: 0' \n",
    "assert time_vn in df.columns, 'Fill out time variable name'\n",
    "\n",
    "names = {'temp':['site_temp_USGS','temperature','Tair_aws','temp','TA_2.0m','T','AirTC_Avg','Temperature'],\n",
    "            'tp':['Precip_Weighing_Incremental','precipitation','Ptotal_aws','tp','P'],\n",
    "            'rh':['RelHum','RH','rh','rH','RH_aws','RH_2.0m'],\n",
    "            'SWin':['RadiationIn','SWin','SWin_aws','SW_IN','SWUpper_Avg'],\n",
    "            'SWout':['RadiationOut','SWout','SWout_aws','SW_out','SW_OUT','SWLower_Avg'],\n",
    "            'LWin':['LWRadiationIn','LWin','LWin_aws','LW_in','LW_IN','Lwin'],\n",
    "            'LWout':['LWRadiationOut','LWout','LWout_aws','LW_OUT'],\n",
    "            'NetRad':['NetRad'],\n",
    "            'wind':['WindSpeed','wind','Wind','ws_aws','WS','WS_ms_Avg'],\n",
    "            'winddir':['VecAvgWindDir','WindDir','Winddir','winddir','WD'],\n",
    "            'sp':['barom','sp','press','Press_aws','Barom','BV_BP_Avg','Pressure'],\n",
    "            'tcc':['cloud_fraction','tcc','CCF','CCF_aws'],\n",
    "            'dtemp':['dtemp','dewpoint_temp'],\n",
    "            'z':['elevation','z']}\n",
    "\n",
    "nan_values = [-888.8800,-888.9,107.572,178.215,178.916]\n",
    "for nan_value in nan_values:\n",
    "    df = df.where(df != nan_value)"
   ]
  },
  {
   "cell_type": "code",
   "execution_count": 446,
   "metadata": {},
   "outputs": [],
   "source": [
    "# ===== Space for extra preprocessing if opening the file isn't enough: =====\n",
    "# n = len(df['TIMESTAMP'])\n",
    "# store = []\n",
    "# for i in range(n):\n",
    "#     datetime = str(df.index[i]) +' '+ df['TIMESTAMP'][i]\n",
    "#     store.append(datetime)\n",
    "# df['TIMESTAMP'] = store"
   ]
  },
  {
   "cell_type": "markdown",
   "metadata": {},
   "source": [
    "If the data is sub-hourly, resampling requires the variable name for precipitation to be explicitly stated in 'precip_vn' so it can be summed rather than averaged."
   ]
  },
  {
   "cell_type": "code",
   "execution_count": 447,
   "metadata": {},
   "outputs": [],
   "source": [
    "# ===== If precipitation data is cumulative =====\n",
    "precip_vn = 'Precip'     # This line can be skipped if the data is already hourly or if there is no precip\n",
    "# orig = df[precip_vn].to_numpy().copy()\n",
    "# orig[1:] = np.diff(orig)\n",
    "# print(orig)\n",
    "# df[precip_vn] = orig"
   ]
  },
  {
   "cell_type": "markdown",
   "metadata": {},
   "source": [
    "## 2. Launch logger\n",
    "The logger stores information regarding the process and is saved alongside the final output .csv."
   ]
  },
  {
   "cell_type": "code",
   "execution_count": 448,
   "metadata": {},
   "outputs": [],
   "source": [
    "# Get base logger\n",
    "base_logger = logging.getLogger()\n",
    "\n",
    "# Create logger which is only updated if a line has not already been documented\n",
    "class UniqueLogger:\n",
    "    def __init__(self, logger):\n",
    "        self.logger = logger\n",
    "        self.logged_messages = set()\n",
    "        self.logger.setLevel(logging.DEBUG)\n",
    "\n",
    "    def info(self, msg):\n",
    "        if msg not in self.logged_messages:\n",
    "            self.logger.info(msg)\n",
    "            self.logged_messages.add(msg)\n",
    "\n",
    "# Check if log filepath already exists; if so, overwrite\n",
    "export_logger_fn = export_fp + export_fn.replace('csv','log')\n",
    "if os.path.exists(export_logger_fn):\n",
    "    os.remove(export_logger_fn)\n",
    "\n",
    "# Add log filepath to logger and get unique logger\n",
    "fhandler = logging.FileHandler(filename=export_logger_fn)\n",
    "base_logger.addHandler(fhandler)\n",
    "logger = UniqueLogger(base_logger)\n",
    "\n",
    "# Initiate logger\n",
    "today = str(pd.Timestamp.today()).replace('-','_')[0:10]\n",
    "logger.info(f'Data for {glac_name} prepared on {today}')"
   ]
  },
  {
   "cell_type": "markdown",
   "metadata": {
    "tags": []
   },
   "source": [
    "## 3. Resample to hourly\n",
    "Add the time index to the dataframe. If the original data has a sub-hourly frequency, resample by taking averages of each variable, with the exception of precipitation which is summed."
   ]
  },
  {
   "cell_type": "code",
   "execution_count": 449,
   "metadata": {},
   "outputs": [],
   "source": [
    "# Optional: add start and end time to clip the data\n",
    "# Uncomment one of the following lines\n",
    "\n",
    "force_dates = False\n",
    "# force_dates = ['start date','end date']         # Fill with datetime strings"
   ]
  },
  {
   "cell_type": "code",
   "execution_count": 450,
   "metadata": {},
   "outputs": [],
   "source": [
    "# Set time as the dataframe index and remove the time column\n",
    "data_start = pd.to_datetime(df[time_vn].iloc[0])\n",
    "data_end = pd.to_datetime(df[time_vn].to_numpy()[-1])\n",
    "freq = pd.to_datetime(df[time_vn].iloc[1]) - data_start\n",
    "df = df.set_index(pd.to_datetime(df[time_vn]))\n",
    "\n",
    "# Adjust timezone of index if necessary\n",
    "if timezone != input_timezone:\n",
    "    time_diff = float(timezone[-3:]) - float(input_timezone[-3:])\n",
    "    df = df.set_index(pd.to_datetime(df.index) + pd.Timedelta(hours=time_diff))\n",
    "\n",
    "# Clip data to forced dates\n",
    "if force_dates:\n",
    "    data_start = pd.to_datetime(force_dates[0])\n",
    "    data_end = pd.to_datetime(force_dates[1])\n",
    "    df = df.loc[data_start:data_end]\n",
    "\n",
    "# Log the time\n",
    "logger.info(f'Data extends from {data_start} to {data_end} with frequency {freq.seconds / 60} min')\n",
    "ntimesteps = np.shape(pd.date_range(data_start,data_end,freq='h'))[0]\n",
    "df = df.drop(time_vn,axis=1).astype(float)\n",
    "\n",
    "# Resample hourly\n",
    "df_ = df\n",
    "if freq.seconds / 3600 < 1:\n",
    "    cols_noP = np.delete(df_.columns.to_numpy(),np.where(df_.columns.to_numpy()==precip_vn))\n",
    "    df = df_[cols_noP].resample('h').mean()\n",
    "    df['tp'] = df_[precip_vn].resample('h').sum()\n",
    "    df = df.loc[data_start:data_end]"
   ]
  },
  {
   "cell_type": "markdown",
   "metadata": {},
   "source": [
    "## 4. Rename variables\n",
    "The following code should rename inconsistent naming to that used in PyGEM-EB. It will print any variable names that were passed from the original file but were not renamed. Check this list to make sure this list doesn't contain any data you need, as it will be removed in the next step.\n",
    "\n",
    "! If this list contains a data variable you need, the printed name was not included in the list of possible options. Uncomment the block of code labeled 'UPDATE NAMES', add the corresponding variable names, and rerun the renaming block. (Or manually add these names to the 'names' variable above.)"
   ]
  },
  {
   "cell_type": "code",
   "execution_count": 451,
   "metadata": {},
   "outputs": [
    {
     "name": "stdout",
     "output_type": "stream",
     "text": [
      "Variables were not renamed, including:\n",
      "['Gust']\n",
      "Read this list and make sure it only includes variables you want to drop\n"
     ]
    }
   ],
   "source": [
    "# RENAMING\n",
    "drop_vars = [] # Storage for variables to be removed\n",
    "\n",
    "# List all variables\n",
    "all_vars = ['temp','tp','rh','SWin','SWout',\n",
    "            'LWin','LWout','wind','winddir',\n",
    "            'sp','tcc','NetRad','dtemp','z']\n",
    "\n",
    "# Loop through dataset variables and try to rename\n",
    "for var in df.columns.to_numpy():\n",
    "    renamed = False\n",
    "\n",
    "    # Loop through each actual variable and check if the column exists\n",
    "    for var_check in all_vars:\n",
    "        if var in names[var_check]:\n",
    "            # Match found made: rename variable\n",
    "            df = df.rename(columns={var:var_check})\n",
    "\n",
    "            # Remove this variable such that only one column can exist\n",
    "            all_vars.remove(var_check)\n",
    "\n",
    "            # Confirm variable was renamed\n",
    "            renamed = True\n",
    "\n",
    "    # Drop variables that were not renamed\n",
    "    if not renamed:\n",
    "        drop_vars.append(var)\n",
    "\n",
    "# Print missing variables\n",
    "if len(drop_vars) > 0:\n",
    "    print('Variables were not renamed, including:')\n",
    "    print(drop_vars)\n",
    "    print('Read this list and make sure it only includes variables you want to drop')\n",
    "else:\n",
    "    drop_vars = [0]\n",
    "\n",
    "# Drop the variables that weren't identified in \"names\"\n",
    "df = df.drop(drop_vars,axis=1)"
   ]
  },
  {
   "cell_type": "markdown",
   "metadata": {},
   "source": [
    "## 5. Interpolate data and inspect\n",
    "First throw out any data variables that don't meet the minimum data requirement. Then fill minor data holes with interpolation. Then check the data count to look for big data gaps that weren't filled by interpolation. This likely indicates the sensor was down for a period or wasn't installed until some time into the date range. That variable will be thrown out too."
   ]
  },
  {
   "cell_type": "code",
   "execution_count": 452,
   "metadata": {},
   "outputs": [],
   "source": [
    "# Loop through data\n",
    "for var in df.columns:\n",
    "    # Check how many of the timestamps are not NaNs\n",
    "    percent_there = df[var].count() / ntimesteps\n",
    "\n",
    "    # Below minimum data percentage, delete the column\n",
    "    if percent_there < data_min_percentage:\n",
    "        missing_percent = (1-data_min_percentage) * 100\n",
    "        logger.info(f'Variable {var} removed: missing over {missing_percent:.0f}% of the data')\n",
    "        df = df.drop(columns=var)\n",
    "    \n",
    "# Interpolate to fill remaining gaps\n",
    "df = df.interpolate('linear')\n",
    "\n",
    "# Double check the gaps were filled (long gaps can be missed)\n",
    "for var in df.columns:\n",
    "    # Only check not-full variables with more than 0 data points\n",
    "    if df[var].count() < ntimesteps and df[var].count() > 0:\n",
    "        # Check how much data is still missing\n",
    "        nmissing = ntimesteps - df[var].count()\n",
    "        missing = df[var][df[var].isna()]\n",
    "\n",
    "        if len(missing) > 0:\n",
    "            # Print a warning\n",
    "            start_missing = str(missing.index[0])[0:10]\n",
    "            end_missing = str(missing.index[-1])[0:10]\n",
    "            logger.info(f'Variable {var} removed: missing {nmissing} values between {start_missing} and {end_missing} after interpolation')"
   ]
  },
  {
   "cell_type": "markdown",
   "metadata": {},
   "source": [
    "## 6. Check units\n",
    "Check the units of each variable. The best way to do this is manually specify the units of the variables you're using from the input data. The table below contains the units each variable is supposed to be in for the model.\n",
    "\n",
    "| Variable      | Units |\n",
    "| ----------- | ----------- |\n",
    "| Temperature      | C       |\n",
    "| Humidity   | % (0-100)        |\n",
    "| Wind Speed      | m/s       |\n",
    "| Wind Direction   | $\\circ$        |\n",
    "| Precipitation      | m (w.e.)       |\n",
    "| Surface Pressure   | Pa        |\n",
    "| Incoming Shortwave      | J/m$^2$       |\n",
    "| Incoming Longwave   | J/m$^2$        |\n",
    "| Cloud cover      | 0-1 (decimal)       |"
   ]
  },
  {
   "cell_type": "code",
   "execution_count": 453,
   "metadata": {},
   "outputs": [],
   "source": [
    "# ===== If the units are specified in a row of the original dataframe, print and inspect ======\n",
    "# df_units = pd.read_csv(data_fp + data_fn,skiprows=rows_to_skip,delim_whitespace=False) \n",
    "# print(df_units.iloc[0])"
   ]
  },
  {
   "cell_type": "code",
   "execution_count": 454,
   "metadata": {},
   "outputs": [],
   "source": [
    "# ACTUAL DATA UNITS (FILL THIS OUT FOR THE VARIABLES IN df)\n",
    "temp_units = 'C'\n",
    "tp_units = 'm'\n",
    "sp_units = 'mbar'\n",
    "rh_units = '%'\n",
    "wind_units = 'km hr-1'\n",
    "winddir_units = 'degrees'\n",
    "SWin_units = 'W m-2'\n",
    "SWout_units = 'W m-2'\n",
    "LWin_units = 'W m-2'\n",
    "LWout_units = 'W m-2'\n",
    "tcc_units = 'decimal'"
   ]
  },
  {
   "cell_type": "code",
   "execution_count": 455,
   "metadata": {},
   "outputs": [
    {
     "name": "stdout",
     "output_type": "stream",
     "text": [
      "Adjusted SWin W m-2-->J m-2\n",
      "Adjusted SWout W m-2-->J m-2\n",
      "Adjusted LWin W m-2-->J m-2\n",
      "Adjusted LWout W m-2-->J m-2\n",
      "Adjusted sp mbar-->Pa\n"
     ]
    }
   ],
   "source": [
    "# Fill out units of input data\n",
    "units_in = {'temp':temp_units,'rh':rh_units,'SWin':SWin_units,'SWout':SWout_units,'LWin':LWin_units,'LWout':LWout_units,\n",
    "            'wind':wind_units,'winddir':winddir_units,'sp':sp_units,'tp':tp_units,'tcc':tcc_units}\n",
    "\n",
    "# Units we should be in\n",
    "units_out = {'temp':'C','dtemp':'K','tp':'m','rh':'%',\n",
    "        'SWin':'J m-2','SWout':'J m-2','LWin':'J m-2','LWout':'J m-2',\n",
    "        'tcc':'0-1','wind':'m s-1','winddir':'deg','sp':'Pa'}\n",
    "\n",
    "# Check each variable for common unit differences\n",
    "if 'temp' in df.columns:\n",
    "    if units_in['temp'] == 'K':\n",
    "        df['temp'] = df['temp'] - 273.15\n",
    "        print('Adjusted temp K-->C')\n",
    "        units_in['temp'] = 'C'\n",
    "    elif units_in['temp'] == 'F':\n",
    "        df['temp'] = (df['temp'] - 32)*5/9\n",
    "        print('Adjusted temp F-->C')\n",
    "        units_in['temp'] = 'C'\n",
    "    \n",
    "if 'rh' in df.columns:\n",
    "    if units_in['rh'] == 'decimal':\n",
    "        df['rh'] = df['rh'] * 100\n",
    "        print('Adjusted RH decimal-->%')\n",
    "        units_in['rh'] = '%'\n",
    "\n",
    "if 'wind' in df.columns:\n",
    "    if units_in['wind'] == 'km hr-1':\n",
    "        df['wind'] = df['wind'] / 1000 * 3600\n",
    "        print('Adjusted wind speed-->m s-1')\n",
    "        units_in['wind'] = 'm s-1'\n",
    "    \n",
    "if 'winddir' in df.columns:\n",
    "    if units_in['winddir'] == 'rad':\n",
    "        df['winddir'] = df['winddir'] * 180/np.pi\n",
    "        print('Adjusted winddir radians-->deg')\n",
    "        units_in['winddir'] = 'deg'\n",
    "    \n",
    "if 'tcc' in df.columns:\n",
    "    if units_in['tcc'] == '%':\n",
    "        df['tcc'] = df['tcc'] / 100\n",
    "        print('Adjusted tcc %-->0-1')\n",
    "        units_in['tcc'] = '0-1'\n",
    "    \n",
    "if 'tp' in df.columns:\n",
    "    if units_in['tp'] == 'm s-1':\n",
    "        df['tp'] = df['tp'] *3600\n",
    "        print('Adjusted tp m/s-->m')\n",
    "        units_in['tp'] = 'm'\n",
    "    elif units_in['tp'] == 'mm':\n",
    "        df['tp'] = df['tp'] / 1000\n",
    "        print('Adjusted tp mm-->m')\n",
    "        units_in['tp'] = 'm'\n",
    "\n",
    "for rad in ['SWin','SWout','LWin','LWout']:\n",
    "    if rad in df.columns:\n",
    "        if units_in[rad] == 'W m-2':\n",
    "            df[rad] = df[rad] * 3600\n",
    "            print(f'Adjusted {rad} W m-2-->J m-2')\n",
    "            units_in[rad] = 'J m-2'\n",
    "\n",
    "if 'sp' in df.columns:\n",
    "    if units_in['sp'] == 'mmHg':\n",
    "        df['sp'] = df['sp'] * 133.32\n",
    "        print('Adjusted sp mmHg-->Pa')\n",
    "        units_in['sp'] = 'Pa'\n",
    "    elif units_in['sp'] == 'cmHg':\n",
    "        df['sp'] = df['sp'] * 1333.2\n",
    "        print('Adjusted sp cmHg-->Pa')\n",
    "        units_in['sp'] = 'Pa'\n",
    "    elif units_in['sp'] == 'kPa':\n",
    "        df['sp'] = df['sp'] * 1000\n",
    "        print('Adjusted sp kPa-->Pa')\n",
    "        units_in['sp'] = 'Pa'\n",
    "    elif units_in['sp'] in ['mbar','hPa']:\n",
    "        df['sp'] = df['sp'] * 100\n",
    "        units_sp = units_in['sp']\n",
    "        print(f'Adjusted sp {units_sp}-->Pa')\n",
    "        units_in['sp'] = 'Pa'\n",
    "\n",
    "# Check SW fluxes make sense (SWout cannot exceed SWin)\n",
    "if 'SWout' in df.columns:\n",
    "    df['SWout'] = df['SWout'].mask(df['SWout'] - df['SWin'] > 0,None)"
   ]
  },
  {
   "cell_type": "markdown",
   "metadata": {},
   "source": [
    "## 7. Reasonable value filters\n",
    "Pass over each data variable and remove any unreasonable values by setting them to a prescribed limit. You can choose to 'remove' (any rows with any variables outside of their range are removed) or 'clip' (clips extreme values to their bound)"
   ]
  },
  {
   "cell_type": "code",
   "execution_count": 456,
   "metadata": {},
   "outputs": [],
   "source": [
    "method_bounds = 'remove' # Choose between 'remove' (remove rows with any variable outside of its range) and 'clip' (clip values to their bounds)\n",
    "var_bounds = {'temp':{'low':-60,'high':50},\n",
    "                'dtemp':{'low':-60,'high':30},\n",
    "                'tp':{'low':0,'high':0.15},\n",
    "                'rh':{'low':0,'high':100},\n",
    "                'SWin':{'low':0,'high':1400*3600},\n",
    "                'SWout':{'low':0,'high':1400*3600},\n",
    "                'LWin':{'low':0,'high':500*3600},\n",
    "                'LWout':{'low':0,'high':500*3600},\n",
    "                'tcc':{'low':0,'high':1},\n",
    "                'wind':{'low':0,'high':70},\n",
    "                'winddir':{'low':0,'high':360},\n",
    "                'sp':{'low':75000,'high':110000}}"
   ]
  },
  {
   "cell_type": "code",
   "execution_count": 457,
   "metadata": {},
   "outputs": [
    {
     "name": "stdout",
     "output_type": "stream",
     "text": [
      "Count before removing extreme values: 40281\n",
      "Removed 0 because of temp\n",
      "Removed 0 because of dtemp\n",
      "Removed 0 because of tp\n",
      "Removed 0 because of rh\n",
      "Removed 15219 because of SWin\n",
      "Removed 5274 because of SWout\n",
      "Removed 0 because of LWin\n",
      "Removed 105 because of LWout\n",
      "Removed 0 because of tcc\n",
      "Removed 0 because of wind\n",
      "Removed 0 because of winddir\n",
      "Removed 0 because of sp\n",
      "Count after removing extreme values: 19683\n"
     ]
    }
   ],
   "source": [
    "if method_bounds == 'remove':\n",
    "    count_first = len(df.index)\n",
    "    print('Count before removing extreme values:', count_first)\n",
    "for var in var_bounds:\n",
    "    if var in df.columns:\n",
    "        if method_bounds == 'remove':\n",
    "            df = df[df[var].between(var_bounds[var]['low'], var_bounds[var]['high'])]\n",
    "        elif method_bounds == 'clip':\n",
    "            df = df[df[var].clip(var_bounds[var]['low'], var_bounds[var]['high'])]\n",
    "    n_removed =  count_first - len(df.index)\n",
    "    print(f'Removed {n_removed} because of {var}')\n",
    "    count_first = len(df.index)\n",
    "\n",
    "if method_bounds == 'remove':\n",
    "    print('Count after removing extreme values:', len(df.index))"
   ]
  },
  {
   "cell_type": "code",
   "execution_count": 458,
   "metadata": {},
   "outputs": [
    {
     "data": {
      "image/png": "[encoded data removed]",
      "text/plain": [
       "<Figure size 640x480 with 2 Axes>"
      ]
     },
     "metadata": {},
     "output_type": "display_data"
    }
   ],
   "source": [
    "import matplotlib as mpl\n",
    "if method_bounds == 'remove':\n",
    "    fig, ax = plt.subplots()\n",
    "    all_percentage = []\n",
    "    for row in df.index:\n",
    "        percent = df.loc[row].count() / len(df.columns)\n",
    "        all_percentage.append(percent)\n",
    "    cmap = plt.get_cmap('magma_r')\n",
    "    norm = mpl.colors.Normalize(vmin=0, vmax=1)\n",
    "    ax.bar(df.index, 1, pd.Timedelta(hours=1), color=cmap(norm(all_percentage)))\n",
    "    ax.set_xlim(df.index[0], df.index[-1])\n",
    "    ax.set_ylim(0,1)\n",
    "    ax.set_yticks([])\n",
    "    sm = mpl.cm.ScalarMappable(cmap=cmap, norm=norm)\n",
    "    sm.set_array([])\n",
    "    fig.colorbar(sm, ax=ax, label='Data percentage',orientation='vertical')"
   ]
  },
  {
   "cell_type": "markdown",
   "metadata": {},
   "source": [
    "## 8. Final check and export\n",
    "Print the dataframe and plot the data and visually inspect. Look for data gaps or values that don't seem right (this probably means you missed a unit conversion.) Finally add the elevation to the dataframe as a new column and export the data!"
   ]
  },
  {
   "cell_type": "code",
   "execution_count": 309,
   "metadata": {},
   "outputs": [
    {
     "data": {
      "text/html": [
       "<div>\n",
       "<style scoped>\n",
       "    .dataframe tbody tr th:only-of-type {\n",
       "        vertical-align: middle;\n",
       "    }\n",
       "\n",
       "    .dataframe tbody tr th {\n",
       "        vertical-align: top;\n",
       "    }\n",
       "\n",
       "    .dataframe thead th {\n",
       "        text-align: right;\n",
       "    }\n",
       "</style>\n",
       "<table border=\"1\" class=\"dataframe\">\n",
       "  <thead>\n",
       "    <tr style=\"text-align: right;\">\n",
       "      <th></th>\n",
       "      <th>sp</th>\n",
       "      <th>temp</th>\n",
       "      <th>rh</th>\n",
       "      <th>wind</th>\n",
       "      <th>winddir</th>\n",
       "      <th>SWin</th>\n",
       "      <th>SWout</th>\n",
       "      <th>LWin</th>\n",
       "      <th>LWout</th>\n",
       "    </tr>\n",
       "    <tr>\n",
       "      <th>Unnamed: 0</th>\n",
       "      <th></th>\n",
       "      <th></th>\n",
       "      <th></th>\n",
       "      <th></th>\n",
       "      <th></th>\n",
       "      <th></th>\n",
       "      <th></th>\n",
       "      <th></th>\n",
       "      <th></th>\n",
       "    </tr>\n",
       "  </thead>\n",
       "  <tbody>\n",
       "    <tr>\n",
       "      <th>2019-09-05 20:00:00</th>\n",
       "      <td>81835.0</td>\n",
       "      <td>4.532</td>\n",
       "      <td>60.5</td>\n",
       "      <td>7.7184</td>\n",
       "      <td>255.514</td>\n",
       "      <td>1895436.0</td>\n",
       "      <td>311724.0</td>\n",
       "      <td>852444.0</td>\n",
       "      <td>1476684.0</td>\n",
       "    </tr>\n",
       "    <tr>\n",
       "      <th>2019-09-05 21:00:00</th>\n",
       "      <td>81855.0</td>\n",
       "      <td>4.428</td>\n",
       "      <td>61.0</td>\n",
       "      <td>12.6288</td>\n",
       "      <td>296.227</td>\n",
       "      <td>2159748.0</td>\n",
       "      <td>357444.0</td>\n",
       "      <td>866124.0</td>\n",
       "      <td>1504836.0</td>\n",
       "    </tr>\n",
       "    <tr>\n",
       "      <th>2019-09-05 22:00:00</th>\n",
       "      <td>81805.0</td>\n",
       "      <td>4.636</td>\n",
       "      <td>60.8</td>\n",
       "      <td>14.0328</td>\n",
       "      <td>284.996</td>\n",
       "      <td>2248740.0</td>\n",
       "      <td>384768.0</td>\n",
       "      <td>874944.0</td>\n",
       "      <td>1526976.0</td>\n",
       "    </tr>\n",
       "    <tr>\n",
       "      <th>2019-09-05 23:00:00</th>\n",
       "      <td>81845.0</td>\n",
       "      <td>6.179</td>\n",
       "      <td>56.3</td>\n",
       "      <td>3.5064</td>\n",
       "      <td>296.227</td>\n",
       "      <td>2126880.0</td>\n",
       "      <td>387756.0</td>\n",
       "      <td>896256.0</td>\n",
       "      <td>1617300.0</td>\n",
       "    </tr>\n",
       "    <tr>\n",
       "      <th>2019-09-06 00:00:00</th>\n",
       "      <td>81815.0</td>\n",
       "      <td>5.437</td>\n",
       "      <td>58.8</td>\n",
       "      <td>7.7184</td>\n",
       "      <td>307.459</td>\n",
       "      <td>1937196.0</td>\n",
       "      <td>361836.0</td>\n",
       "      <td>888228.0</td>\n",
       "      <td>1580688.0</td>\n",
       "    </tr>\n",
       "    <tr>\n",
       "      <th>...</th>\n",
       "      <td>...</td>\n",
       "      <td>...</td>\n",
       "      <td>...</td>\n",
       "      <td>...</td>\n",
       "      <td>...</td>\n",
       "      <td>...</td>\n",
       "      <td>...</td>\n",
       "      <td>...</td>\n",
       "      <td>...</td>\n",
       "    </tr>\n",
       "    <tr>\n",
       "      <th>2023-11-08 15:00:00</th>\n",
       "      <td>79605.0</td>\n",
       "      <td>-6.579</td>\n",
       "      <td>94.0</td>\n",
       "      <td>32.8356</td>\n",
       "      <td>231.647</td>\n",
       "      <td>144.0</td>\n",
       "      <td>108.0</td>\n",
       "      <td>1036080.0</td>\n",
       "      <td>1037988.0</td>\n",
       "    </tr>\n",
       "    <tr>\n",
       "      <th>2023-11-30 13:00:00</th>\n",
       "      <td>79215.0</td>\n",
       "      <td>-11.361</td>\n",
       "      <td>89.2</td>\n",
       "      <td>10.1052</td>\n",
       "      <td>179.702</td>\n",
       "      <td>1188.0</td>\n",
       "      <td>216.0</td>\n",
       "      <td>967536.0</td>\n",
       "      <td>971964.0</td>\n",
       "    </tr>\n",
       "    <tr>\n",
       "      <th>2023-12-12 02:00:00</th>\n",
       "      <td>78955.0</td>\n",
       "      <td>-6.105</td>\n",
       "      <td>95.7</td>\n",
       "      <td>47.9916</td>\n",
       "      <td>349.576</td>\n",
       "      <td>468.0</td>\n",
       "      <td>252.0</td>\n",
       "      <td>1045404.0</td>\n",
       "      <td>1046268.0</td>\n",
       "    </tr>\n",
       "    <tr>\n",
       "      <th>2023-12-12 17:00:00</th>\n",
       "      <td>77975.0</td>\n",
       "      <td>-6.770</td>\n",
       "      <td>95.7</td>\n",
       "      <td>15.1560</td>\n",
       "      <td>176.894</td>\n",
       "      <td>72.0</td>\n",
       "      <td>36.0</td>\n",
       "      <td>1036476.0</td>\n",
       "      <td>1036584.0</td>\n",
       "    </tr>\n",
       "    <tr>\n",
       "      <th>2023-12-12 18:00:00</th>\n",
       "      <td>77935.0</td>\n",
       "      <td>-6.866</td>\n",
       "      <td>95.7</td>\n",
       "      <td>2.5272</td>\n",
       "      <td>197.953</td>\n",
       "      <td>144.0</td>\n",
       "      <td>144.0</td>\n",
       "      <td>1034748.0</td>\n",
       "      <td>1035144.0</td>\n",
       "    </tr>\n",
       "  </tbody>\n",
       "</table>\n",
       "<p>9528 rows × 9 columns</p>\n",
       "</div>"
      ],
      "text/plain": [
       "                          sp    temp    rh     wind  winddir       SWin  \\\n",
       "Unnamed: 0                                                                \n",
       "2019-09-05 20:00:00  81835.0   4.532  60.5   7.7184  255.514  1895436.0   \n",
       "2019-09-05 21:00:00  81855.0   4.428  61.0  12.6288  296.227  2159748.0   \n",
       "2019-09-05 22:00:00  81805.0   4.636  60.8  14.0328  284.996  2248740.0   \n",
       "2019-09-05 23:00:00  81845.0   6.179  56.3   3.5064  296.227  2126880.0   \n",
       "2019-09-06 00:00:00  81815.0   5.437  58.8   7.7184  307.459  1937196.0   \n",
       "...                      ...     ...   ...      ...      ...        ...   \n",
       "2023-11-08 15:00:00  79605.0  -6.579  94.0  32.8356  231.647      144.0   \n",
       "2023-11-30 13:00:00  79215.0 -11.361  89.2  10.1052  179.702     1188.0   \n",
       "2023-12-12 02:00:00  78955.0  -6.105  95.7  47.9916  349.576      468.0   \n",
       "2023-12-12 17:00:00  77975.0  -6.770  95.7  15.1560  176.894       72.0   \n",
       "2023-12-12 18:00:00  77935.0  -6.866  95.7   2.5272  197.953      144.0   \n",
       "\n",
       "                        SWout       LWin      LWout  \n",
       "Unnamed: 0                                           \n",
       "2019-09-05 20:00:00  311724.0   852444.0  1476684.0  \n",
       "2019-09-05 21:00:00  357444.0   866124.0  1504836.0  \n",
       "2019-09-05 22:00:00  384768.0   874944.0  1526976.0  \n",
       "2019-09-05 23:00:00  387756.0   896256.0  1617300.0  \n",
       "2019-09-06 00:00:00  361836.0   888228.0  1580688.0  \n",
       "...                       ...        ...        ...  \n",
       "2023-11-08 15:00:00     108.0  1036080.0  1037988.0  \n",
       "2023-11-30 13:00:00     216.0   967536.0   971964.0  \n",
       "2023-12-12 02:00:00     252.0  1045404.0  1046268.0  \n",
       "2023-12-12 17:00:00      36.0  1036476.0  1036584.0  \n",
       "2023-12-12 18:00:00     144.0  1034748.0  1035144.0  \n",
       "\n",
       "[9528 rows x 9 columns]"
      ]
     },
     "execution_count": 309,
     "metadata": {},
     "output_type": "execute_result"
    }
   ],
   "source": [
    "df"
   ]
  },
  {
   "cell_type": "markdown",
   "metadata": {},
   "source": [
    "Optional: plot the data's daily averages to make sure things look right!"
   ]
  },
  {
   "cell_type": "code",
   "execution_count": 310,
   "metadata": {},
   "outputs": [
    {
     "data": {
      "image/png": "[encoded data removed]",
      "text/plain": [
       "<Figure size 700x1350 with 9 Axes>"
      ]
     },
     "metadata": {},
     "output_type": "display_data"
    }
   ],
   "source": [
    "# check how many variables there are excluding elevation and time\n",
    "full_vars = []\n",
    "for var in df.columns:\n",
    "    if df[var].count() > 0 and var not in ['z','hour']:\n",
    "        full_vars.append(var)\n",
    "nvars = len(full_vars)\n",
    "fig,axis = plt.subplots(nvars,1,figsize=(7,1.5*nvars),sharex=True)\n",
    "df['hour'] = pd.to_datetime(df.index).hour\n",
    "\n",
    "# Loop through and plot variables\n",
    "for i,var in enumerate(full_vars):\n",
    "    var_hourly = []\n",
    "    for hour in np.arange(24):\n",
    "        # Select the dataframe by the hour and find the mean\n",
    "        ds_hour = df[df['hour'] == hour]\n",
    "        hourly_mean = np.mean(ds_hour[var])\n",
    "        var_hourly.append(hourly_mean)\n",
    "    axis[i].plot(np.arange(24),var_hourly)\n",
    "    axis[i].set_ylabel(var)\n",
    "    axis[i].set_xlim((0,23))\n",
    "axis[0].set_title('Weather averages for each hour of the day')\n",
    "plt.show()\n",
    "df = df.drop(columns=['hour'])"
   ]
  },
  {
   "cell_type": "code",
   "execution_count": 178,
   "metadata": {},
   "outputs": [],
   "source": [
    "df['z'] = np.ones(len(df.index)) * elev\n",
    "df.to_csv(export_fp+export_fn)"
   ]
  },
  {
   "cell_type": "code",
   "execution_count": 179,
   "metadata": {},
   "outputs": [
    {
     "data": {
      "text/plain": [
       "'../climate_data/AWS/Preprocessed//kaskawulsh/kaskawulsh.csv'"
      ]
     },
     "execution_count": 179,
     "metadata": {},
     "output_type": "execute_result"
    }
   ],
   "source": [
    "export_fp + export_fn"
   ]
  },
  {
   "cell_type": "code",
   "execution_count": 180,
   "metadata": {},
   "outputs": [],
   "source": [
    "# ===== DONE! ====="
   ]
  },
  {
   "cell_type": "markdown",
   "metadata": {},
   "source": [
    "Find RGI ID"
   ]
  },
  {
   "cell_type": "code",
   "execution_count": 181,
   "metadata": {},
   "outputs": [
    {
     "data": {
      "text/html": [
       "<div>\n",
       "<style scoped>\n",
       "    .dataframe tbody tr th:only-of-type {\n",
       "        vertical-align: middle;\n",
       "    }\n",
       "\n",
       "    .dataframe tbody tr th {\n",
       "        vertical-align: top;\n",
       "    }\n",
       "\n",
       "    .dataframe thead th {\n",
       "        text-align: right;\n",
       "    }\n",
       "</style>\n",
       "<table border=\"1\" class=\"dataframe\">\n",
       "  <thead>\n",
       "    <tr style=\"text-align: right;\">\n",
       "      <th></th>\n",
       "      <th>RGIId</th>\n",
       "      <th>GLIMSId</th>\n",
       "      <th>BgnDate</th>\n",
       "      <th>EndDate</th>\n",
       "      <th>CenLon</th>\n",
       "      <th>CenLat</th>\n",
       "      <th>O1Region</th>\n",
       "      <th>O2Region</th>\n",
       "      <th>Area</th>\n",
       "      <th>Zmin</th>\n",
       "      <th>...</th>\n",
       "      <th>Slope</th>\n",
       "      <th>Aspect</th>\n",
       "      <th>Lmax</th>\n",
       "      <th>Status</th>\n",
       "      <th>Connect</th>\n",
       "      <th>Form</th>\n",
       "      <th>TermType</th>\n",
       "      <th>Surging</th>\n",
       "      <th>Linkages</th>\n",
       "      <th>Name</th>\n",
       "    </tr>\n",
       "  </thead>\n",
       "  <tbody>\n",
       "    <tr>\n",
       "      <th>16196</th>\n",
       "      <td>RGI60-01.16201</td>\n",
       "      <td>G220886E60666N</td>\n",
       "      <td>20100804</td>\n",
       "      <td>-9999999</td>\n",
       "      <td>-139.114</td>\n",
       "      <td>60.666</td>\n",
       "      <td>1</td>\n",
       "      <td>5</td>\n",
       "      <td>1053.721</td>\n",
       "      <td>752</td>\n",
       "      <td>...</td>\n",
       "      <td>11.0</td>\n",
       "      <td>31</td>\n",
       "      <td>81627</td>\n",
       "      <td>0</td>\n",
       "      <td>0</td>\n",
       "      <td>0</td>\n",
       "      <td>0</td>\n",
       "      <td>9</td>\n",
       "      <td>9</td>\n",
       "      <td>Kaskawulsh Glacier</td>\n",
       "    </tr>\n",
       "  </tbody>\n",
       "</table>\n",
       "<p>1 rows × 22 columns</p>\n",
       "</div>"
      ],
      "text/plain": [
       "                RGIId         GLIMSId   BgnDate  EndDate   CenLon  CenLat  \\\n",
       "16196  RGI60-01.16201  G220886E60666N  20100804 -9999999 -139.114  60.666   \n",
       "\n",
       "       O1Region  O2Region      Area  Zmin  ...  Slope  Aspect   Lmax  Status  \\\n",
       "16196         1         5  1053.721   752  ...   11.0      31  81627       0   \n",
       "\n",
       "       Connect  Form  TermType  Surging  Linkages                Name  \n",
       "16196        0     0         0        9         9  Kaskawulsh Glacier  \n",
       "\n",
       "[1 rows x 22 columns]"
      ]
     },
     "execution_count": 181,
     "metadata": {},
     "output_type": "execute_result"
    }
   ],
   "source": [
    "search = 'wulsh'\n",
    "region = '01'\n",
    "RGI_fp = '../RGI/rgi60/00_rgi60_attribs/'\n",
    "for f in os.listdir(RGI_fp):\n",
    "    if region in f and f[-3:] == 'csv':\n",
    "        RGI_fn = f\n",
    "RGI_df = pd.read_csv(RGI_fp + RGI_fn)\n",
    "where = []\n",
    "for f in RGI_df['Name'].values:\n",
    "    if type(f) == str:\n",
    "        where.append(search in f)\n",
    "    else:\n",
    "        where.append(False)\n",
    "RGI_df.iloc[where]"
   ]
  },
  {
   "cell_type": "code",
   "execution_count": null,
   "metadata": {},
   "outputs": [],
   "source": []
  }
 ],
 "metadata": {
  "kernelspec": {
   "display_name": "eb_env",
   "language": "python",
   "name": "python3"
  },
  "language_info": {
   "codemirror_mode": {
    "name": "ipython",
    "version": 3
   },
   "file_extension": ".py",
   "mimetype": "text/x-python",
   "name": "python",
   "nbconvert_exporter": "python",
   "pygments_lexer": "ipython3",
   "version": "3.11.13"
  }
 },
 "nbformat": 4,
 "nbformat_minor": 4
}
