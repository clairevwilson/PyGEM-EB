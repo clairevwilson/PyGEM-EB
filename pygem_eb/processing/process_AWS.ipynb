{
 "cells": [
  {
   "cell_type": "markdown",
   "metadata": {},
   "source": [
    "# Input Data Processing\n",
    "This Jupyter notebook contains code to process climate data to a standardized format for the PyGEM-EB model. This is intended to be used for runs with AWS data, but can also be used to get a subset of data from a GCM; ERA5 or MERRA2. Note that this code may not be comprehensive for all errors that arise from the formatting of a specific dataset. "
   ]
  },
  {
   "cell_type": "code",
   "execution_count": 1,
   "metadata": {},
   "outputs": [],
   "source": [
    "import numpy as np\n",
    "import os\n",
    "import xarray as xr\n",
    "import logging\n",
    "import pandas as pd\n",
    "import matplotlib.pyplot as plt\n",
    "logging.getLogger('matplotlib').setLevel(logging.WARNING)"
   ]
  },
  {
   "cell_type": "markdown",
   "metadata": {},
   "source": [
    "## 0. Define variables\n",
    "Fill out the cell below to set up the glacier being accessed and the filepaths."
   ]
  },
  {
   "cell_type": "code",
   "execution_count": 2,
   "metadata": {},
   "outputs": [],
   "source": [
    "# CODE TO EDIT FOR EVERY NEW STATION/GLACIER\n",
    "# GLACIER STUFF\n",
    "glac_no = ['16.01345'] # ['01.00570']          # RGI Glacier ID\n",
    "station = 'cayambe'              # You choose: descriptive name for log and output\n",
    "elev = 4996                      # Elevation of AWS in m a.s.l.\n",
    "\n",
    "# TIMEZONE\n",
    "timezone = 'GMT-05'       # Timezone of output data (should be local time)\n",
    "input_timezone = 'GMT-00' # Time zone of input data\n",
    "\n",
    "# USER SPECIFIED\n",
    "data_min_percentage = 0.8       # Below this threshold, AWS data will be thrown out\n",
    "force_dates = None # None or list containing [start date, end date], dtype=str\n",
    "specify_start = '2025-05-20 23:00' # False or timestamp IN ORIGINAL TIMEZONE when data starts\n",
    "fill_data = ['tp','bcwet','bcdry','ocwet','ocdry','dustwet','dustdry','tcc']\n",
    "\n",
    "# FILEPATHS\n",
    "# Change for every new glacier\n",
    "data_fn = '/climate_data/AWS/Raw/73225_FifteenMin_2025-05-22T12-55.csv' # Gulkana/gulkana1480_hourly_LVL2.csv'   # File name of data     \n",
    "export_fn = station+'.csv'\n",
    "\n",
    "# CODE TO EDIT FOR A NEW FILE SYSTEM\n",
    "fp = '/home/claire/research'                              # Filepath to data\n",
    "attr_fp = fp+'/RGI/rgi60/00_rgi60_attribs/'    # Filepath to RGI data\n",
    "export_fp = fp+f'/climate_data/AWS/Preprocessed/{station}/'      # Filepath to export data\n",
    "if not os.path.exists(export_fp):\n",
    "    os.mkdir(export_fp)"
   ]
  },
  {
   "cell_type": "markdown",
   "metadata": {},
   "source": [
    "## 1. Load Data\n",
    "From the output of the first cell, make sure the columns have been properly loaded. The cell below contains a dictionary with possible names for each actual variable name. If the column names printed are missing, add those here, and update the name for the time variable.\n",
    "\n",
    "If the data is sub-hourly, resampling requires the variable name for precipitation to be explicitly stated in 'precip_vn'."
   ]
  },
  {
   "cell_type": "code",
   "execution_count": 3,
   "metadata": {},
   "outputs": [
    {
     "name": "stdout",
     "output_type": "stream",
     "text": [
      "             TIMESTAMP RECORD BattV_Avg BattV_Min PTemp_C_Avg AirTC_Avg    RH  \\\n",
      "0                   TS     RN     Volts     Volts       Deg C     Deg C     %   \n",
      "1                  NaN    NaN       Avg       Min         Avg       Avg   Smp   \n",
      "2  2025-05-20 01:45:00      0     11.07    -0.004       14.99       NAN  80.3   \n",
      "\n",
      "       WS_ms_Avg      WS_ms_Max  WindDir  ... NR_Wm2_Std BattV_2_Avg  \\\n",
      "0  meters/second  meters/second  degrees  ...      W/m^2           V   \n",
      "1            Avg            Max      Smp  ...        Std         Avg   \n",
      "2              0              0    110.4  ...       2.22       12.66   \n",
      "\n",
      "  BattI_Avg LoadI_Avg ChgInV_Avg ChgInI_Avg ChgTempC_Avg ChgState ChgSource  \\\n",
      "0         A         A          V          A        Deg C     code      code   \n",
      "1       Avg       Avg        Avg        Avg          Avg      Smp       Smp   \n",
      "2    -0.019     0.019          0          0        15.01        0         0   \n",
      "\n",
      "  ChkBatt  \n",
      "0    code  \n",
      "1     Smp  \n",
      "2       0  \n",
      "\n",
      "[3 rows x 29 columns]\n"
     ]
    }
   ],
   "source": [
    "# Read in the data and make sure the columns were correctly loaded\n",
    "# NOTE this step is likely to cause errors that can be fixed by adjusting the input arguments, for example delim_whitespace\n",
    "rows_to_skip = 1     # Number of rows that contain text at the beginning of the file (34 for Storglaciaren), sep='\\t'\n",
    "df = pd.read_csv(fp + data_fn,skiprows=rows_to_skip,sep=',') \n",
    "print(df.head(3))"
   ]
  },
  {
   "cell_type": "code",
   "execution_count": 4,
   "metadata": {},
   "outputs": [],
   "source": [
    "# Fill out after executing above to check the variable names for time and precipitation\n",
    "time_vn = 'TIMESTAMP' \n",
    "names = {'temp':['site_temp_USGS','temperature','Tair_aws','temp','TA_2.0m','T','AirTC_Avg'],\n",
    "            'tp':['Precip_Weighing_Incremental','precipitation','Ptotal_aws','tp','P'],\n",
    "            'rh':['RelHum','RH','rh','rH','RH_aws','RH_2.0m'],\n",
    "            'SWin':['RadiationIn','SWin','SWin_aws','SW_IN','SWUpper_Avg'],\n",
    "            'SWout':['RadiationOut','SWout','SWout_aws','SW_out','SW_OUT','SWLower_Avg'],\n",
    "            'LWin':['LWRadiationIn','LWin','LWin_aws','LW_in','LW_IN','Lwin'],\n",
    "            'LWout':['LWRadiationOut','LWout','LWout_aws','LW_OUT'],\n",
    "            'NR':['NR','NR_Wm2_Avg'],\n",
    "            'wind':['WindSpeed','wind','Wind','ws_aws','WS','WS_ms_Avg'],\n",
    "            'winddir':['VecAvgWindDir','WindDir','Winddir','winddir','WD'],\n",
    "            'sp':['barom','sp','press','Press_aws','Barom','BV_BP_Avg'],\n",
    "            'tcc':['cloud_fraction','tcc','CCF','CCF_aws'],\n",
    "            'dtemp':['dtemp','dewpoint_temp'],\n",
    "            'z':['elevation','z']}\n",
    "\n",
    "precip_vn = 'Precip'     # This line can be skipped if the data is already hourly or if there is no precip\n",
    "nan_values = [-888.8800,-888.9,np.nan]\n",
    "for nan_value in nan_values:\n",
    "    df = df.where(df != nan_value)"
   ]
  },
  {
   "cell_type": "code",
   "execution_count": 5,
   "metadata": {},
   "outputs": [],
   "source": [
    "# ===== Space for extra preprocessing if opening the file isn't enough: =====\n",
    "# n = len(df['TIMESTAMP'])\n",
    "# store = []\n",
    "# for i in range(n):\n",
    "#     datetime = str(df.index[i]) +' '+ df['TIMESTAMP'][i]\n",
    "#     store.append(datetime)\n",
    "# df['TIMESTAMP'] = store\n",
    "df = df.iloc[2:]"
   ]
  },
  {
   "cell_type": "code",
   "execution_count": 6,
   "metadata": {},
   "outputs": [],
   "source": [
    "# ====== USGS Precip/Stage debocle ======\n",
    "# df['Precip_Weighing_Incremental'] = df['Precip_Weighing_Incremental'].fillna(df['Precip_Stage_Incremental'])"
   ]
  },
  {
   "cell_type": "code",
   "execution_count": 7,
   "metadata": {},
   "outputs": [],
   "source": [
    "# ===== If precipitation data is cumulative =====\n",
    "# orig = df['Precip'].to_numpy().copy()\n",
    "# orig[1:] = np.diff(orig)\n",
    "# print(orig)\n",
    "# df['Precip'] = orig"
   ]
  },
  {
   "cell_type": "markdown",
   "metadata": {},
   "source": [
    "## 2. Launch logger\n",
    "The logger stores information regarding the process and is saved alongside the final output .csv."
   ]
  },
  {
   "cell_type": "code",
   "execution_count": 8,
   "metadata": {},
   "outputs": [],
   "source": [
    "logger = logging.getLogger()\n",
    "fhandler = logging.FileHandler(filename = export_fp+export_fn.replace('csv','log'))\n",
    "logger.addHandler(fhandler)\n",
    "logger.setLevel(logging.DEBUG)\n",
    "\n",
    "# Check\n",
    "today = str(pd.Timestamp.today()).replace('-','_')[0:10]\n",
    "logger.info(f'Data for {station} prepared on {today}')"
   ]
  },
  {
   "cell_type": "markdown",
   "metadata": {
    "tags": []
   },
   "source": [
    "## 3. Resample to hourly\n",
    "Add the time index to the dataframe. If the original data has a sub-hourly frequency, resample by taking averages of each variable, with the exception of precipitation which is summed."
   ]
  },
  {
   "cell_type": "code",
   "execution_count": 9,
   "metadata": {},
   "outputs": [
    {
     "name": "stdout",
     "output_type": "stream",
     "text": [
      "2025-05-20 23:15:00 2025-05-20 23:00:00\n"
     ]
    }
   ],
   "source": [
    "# Set time as the dataframe index and remove the time column\n",
    "if specify_start:\n",
    "    data_start = pd.to_datetime(specify_start)\n",
    "else:\n",
    "    data_start = pd.to_datetime(df[time_vn].iloc[0])\n",
    "df = df.set_index(pd.to_datetime(df[time_vn]))\n",
    "df = df.loc[data_start:]\n",
    "data_end = pd.to_datetime(df[time_vn].to_numpy()[-1])\n",
    "freq = pd.to_datetime(df[time_vn].iloc[1]) - data_start\n",
    "print( pd.to_datetime(df[time_vn].iloc[1]),data_start)\n",
    "\n",
    "if timezone != input_timezone:\n",
    "    time_diff = float(timezone[-3:]) - float(input_timezone[-3:])\n",
    "    df = df.set_index(pd.to_datetime(df.index) + pd.Timedelta(hours=time_diff))\n",
    "\n",
    "if force_dates is not None:\n",
    "    data_start = pd.to_datetime(force_dates[0])\n",
    "    data_end = pd.to_datetime(force_dates[1])\n",
    "    df = df.loc[data_start:data_end]\n",
    "logger.info(f'Data extends from {data_start} to {data_end} with frequency {freq.seconds / 60} min')\n",
    "ntimesteps = np.shape(pd.date_range(data_start,data_end,freq='h'))[0]\n",
    "df = df.drop(time_vn,axis=1).astype(float)\n",
    "\n",
    "# Resample hourly\n",
    "df_ = df\n",
    "if freq.seconds / 3600 < 1:\n",
    "    cols_noP = np.delete(df_.columns.to_numpy(),np.where(df_.columns.to_numpy()==precip_vn))\n",
    "    df = df_[cols_noP].resample('h').mean()\n",
    "    # df['tp'] = df_[precip_vn].resample('h').sum()\n",
    "    df = df.loc[data_start:data_end]"
   ]
  },
  {
   "cell_type": "markdown",
   "metadata": {},
   "source": [
    "## 4. Rename variables\n",
    "The following code should rename inconsistent naming to that used in PyGEM-EB. It will print any variable names that were passed from the original file but were not renamed. Check this list to make sure this list doesn't contain any data you need, as it will be removed in the next step.\n",
    "\n",
    "! If this list contains a data variable you need, the printed name was not included in the list of possible options. Uncomment the block of code labeled 'UPDATE NAMES', add the corresponding variable names, and rerun the renaming block. (Or manually add these names to the 'names' variable above.)"
   ]
  },
  {
   "cell_type": "code",
   "execution_count": 10,
   "metadata": {},
   "outputs": [
    {
     "name": "stdout",
     "output_type": "stream",
     "text": [
      "Variables were not renamed, including:\n",
      "['RECORD', 'BattV_Avg', 'BattV_Min', 'PTemp_C_Avg', 'WS_ms_Max', 'TT_C_Avg', 'SBT_C_Avg', 'SlrW_Avg', 'CS320_Angle_Avg', 'SlrW_2_Avg', 'CS320_Angle_2_Avg', 'NR_Wm2_Max', 'NR_Wm2_Min', 'NR_Wm2_Std', 'BattV_2_Avg', 'BattI_Avg', 'LoadI_Avg', 'ChgInV_Avg', 'ChgInI_Avg', 'ChgTempC_Avg', 'ChgState', 'ChgSource', 'ChkBatt']\n"
     ]
    }
   ],
   "source": [
    "# RENAMING\n",
    "drop_vars = []\n",
    "all_vars = ['temp','tp','rh','SWin','SWout','LWin','LWout','wind','winddir','sp','tcc','NR','dtemp','z']\n",
    "for var in df.columns.to_numpy():\n",
    "    renamed = False\n",
    "    for var_check in all_vars:\n",
    "        if var in names[var_check]:\n",
    "            df = df.rename(columns={var:var_check})\n",
    "            all_vars.remove(var_check)\n",
    "            renamed = True\n",
    "    if not renamed:\n",
    "        drop_vars.append(var)\n",
    "if len(drop_vars) > 0:\n",
    "    print('Variables were not renamed, including:')\n",
    "    print(drop_vars)\n",
    "else:\n",
    "    drop_vars = [0]\n",
    "# Drop the variables that don't contain relevant data\n",
    "df = df.drop(drop_vars,axis=1)"
   ]
  },
  {
   "cell_type": "code",
   "execution_count": 11,
   "metadata": {},
   "outputs": [],
   "source": [
    "# UPDATE NAMES\n",
    "# var_to_fill = 'NR'\n",
    "# new_name = 'NR_Wm2_Avg'\n",
    "# names[var_to_fill].append(new_name)"
   ]
  },
  {
   "cell_type": "markdown",
   "metadata": {},
   "source": [
    "## 5. Interpolate data and inspect\n",
    "First throw out any data variables that don't meet the minimum data requirement. Then fill minor data holes with interpolation. Then check the data count to look for big data gaps that weren't filled by interpolation. This likely indicates the sensor was down for a period or wasn't installed until some time into the date range. That variable will be thrown out too."
   ]
  },
  {
   "cell_type": "code",
   "execution_count": 12,
   "metadata": {},
   "outputs": [],
   "source": [
    "for var in df.columns:\n",
    "    percent_there = df[var].count() / ntimesteps\n",
    "    if percent_there < data_min_percentage:\n",
    "        missing_percent = (1-data_min_percentage) * 100\n",
    "        logger.info(f'Variable {var} removed: missing over {missing_percent:.0f}% of the data')\n",
    "        df = df.drop(columns=var)\n",
    "df = df.interpolate('linear')\n",
    "for var in df.columns:\n",
    "    if df[var].count() < ntimesteps and df[var].count() > 0:\n",
    "        nmissing = ntimesteps - df[var].count()\n",
    "        missing = df[var][df[var].isna()]\n",
    "        if len(missing) > 0:\n",
    "            start_missing = str(missing.index[0])[0:10]\n",
    "            end_missing = str(missing.index[-1])[0:10]\n",
    "            logger.info(f'Variable {var} removed: missing {nmissing} values between {start_missing} and {end_missing} after interpolation')"
   ]
  },
  {
   "cell_type": "code",
   "execution_count": 13,
   "metadata": {},
   "outputs": [
    {
     "data": {
      "text/html": [
       "<div>\n",
       "<style scoped>\n",
       "    .dataframe tbody tr th:only-of-type {\n",
       "        vertical-align: middle;\n",
       "    }\n",
       "\n",
       "    .dataframe tbody tr th {\n",
       "        vertical-align: top;\n",
       "    }\n",
       "\n",
       "    .dataframe thead th {\n",
       "        text-align: right;\n",
       "    }\n",
       "</style>\n",
       "<table border=\"1\" class=\"dataframe\">\n",
       "  <thead>\n",
       "    <tr style=\"text-align: right;\">\n",
       "      <th></th>\n",
       "      <th>temp</th>\n",
       "      <th>rh</th>\n",
       "      <th>wind</th>\n",
       "      <th>winddir</th>\n",
       "      <th>NR</th>\n",
       "    </tr>\n",
       "    <tr>\n",
       "      <th>TIMESTAMP</th>\n",
       "      <th></th>\n",
       "      <th></th>\n",
       "      <th></th>\n",
       "      <th></th>\n",
       "      <th></th>\n",
       "    </tr>\n",
       "  </thead>\n",
       "  <tbody>\n",
       "    <tr>\n",
       "      <th>2025-05-20 23:00:00</th>\n",
       "      <td>-0.12175</td>\n",
       "      <td>96.125</td>\n",
       "      <td>0.82425</td>\n",
       "      <td>130.7850</td>\n",
       "      <td>-6.88275</td>\n",
       "    </tr>\n",
       "    <tr>\n",
       "      <th>2025-05-21 00:00:00</th>\n",
       "      <td>-0.39750</td>\n",
       "      <td>96.625</td>\n",
       "      <td>1.88800</td>\n",
       "      <td>131.8225</td>\n",
       "      <td>-13.34250</td>\n",
       "    </tr>\n",
       "    <tr>\n",
       "      <th>2025-05-21 01:00:00</th>\n",
       "      <td>-0.87375</td>\n",
       "      <td>97.850</td>\n",
       "      <td>2.25500</td>\n",
       "      <td>211.0075</td>\n",
       "      <td>-9.77250</td>\n",
       "    </tr>\n",
       "  </tbody>\n",
       "</table>\n",
       "</div>"
      ],
      "text/plain": [
       "                        temp      rh     wind   winddir        NR\n",
       "TIMESTAMP                                                        \n",
       "2025-05-20 23:00:00 -0.12175  96.125  0.82425  130.7850  -6.88275\n",
       "2025-05-21 00:00:00 -0.39750  96.625  1.88800  131.8225 -13.34250\n",
       "2025-05-21 01:00:00 -0.87375  97.850  2.25500  211.0075  -9.77250"
      ]
     },
     "execution_count": 13,
     "metadata": {},
     "output_type": "execute_result"
    }
   ],
   "source": [
    "df.head(3)"
   ]
  },
  {
   "cell_type": "code",
   "execution_count": 14,
   "metadata": {},
   "outputs": [],
   "source": [
    "# df = df.loc['2000-01-01':]\n",
    "# df.loc[pd.to_datetime('2001-09-01'):pd.to_datetime('2003-04-01')] = df.loc[pd.to_datetime('2017-09-01'):pd.to_datetime('2019-04-01')].values\n",
    "# df.loc[pd.to_datetime('2010-01-01'):pd.to_datetime('2010-08-01')] = df.loc[pd.to_datetime('2011-01-01'):pd.to_datetime('2011-08-01')].values"
   ]
  },
  {
   "cell_type": "markdown",
   "metadata": {},
   "source": [
    "## 6. Check units\n",
    "Check the units of each variable. The best way to do this is manually specify the units of the variables you're using from the input data. The table below contains the units each variable is supposed to be in for the model.\n",
    "\n",
    "| Variable      | Units |\n",
    "| ----------- | ----------- |\n",
    "| Temperature      | C       |\n",
    "| Humidity   | % (0-100)        |\n",
    "| Wind Speed      | m/s       |\n",
    "| Wind Direction   | $\\circ$        |\n",
    "| Precipitation      | m (w.e.)       |\n",
    "| Surface Pressure   | Pa        |\n",
    "| Incoming Shortwave      | J/m$^2$       |\n",
    "| Incoming Longwave   | J/m$^2$        |\n",
    "| Cloud cover      | 0-1 (decimal)       |"
   ]
  },
  {
   "cell_type": "code",
   "execution_count": 15,
   "metadata": {},
   "outputs": [
    {
     "name": "stdout",
     "output_type": "stream",
     "text": [
      "TIMESTAMP                       TS\n",
      "RECORD                          RN\n",
      "BattV_Avg                    Volts\n",
      "BattV_Min                    Volts\n",
      "PTemp_C_Avg                  Deg C\n",
      "AirTC_Avg                    Deg C\n",
      "RH                               %\n",
      "WS_ms_Avg            meters/second\n",
      "WS_ms_Max            meters/second\n",
      "WindDir                    degrees\n",
      "TT_C_Avg                     Deg C\n",
      "SBT_C_Avg                    Deg C\n",
      "SlrW_Avg                     W/m^2\n",
      "CS320_Angle_Avg            degrees\n",
      "SlrW_2_Avg                   W/m^2\n",
      "CS320_Angle_2_Avg          degrees\n",
      "NR_Wm2_Avg                   W/m^2\n",
      "NR_Wm2_Max                   W/m^2\n",
      "NR_Wm2_Min                   W/m^2\n",
      "NR_Wm2_Std                   W/m^2\n",
      "BattV_2_Avg                      V\n",
      "BattI_Avg                        A\n",
      "LoadI_Avg                        A\n",
      "ChgInV_Avg                       V\n",
      "ChgInI_Avg                       A\n",
      "ChgTempC_Avg                 Deg C\n",
      "ChgState                      code\n",
      "ChgSource                     code\n",
      "ChkBatt                       code\n",
      "Name: 0, dtype: object\n"
     ]
    }
   ],
   "source": [
    "# ===== If the units are specified in a row of the original dataframe ======\n",
    "df_ = pd.read_csv(fp + data_fn,skiprows=rows_to_skip) \n",
    "print(df_.iloc[0])"
   ]
  },
  {
   "cell_type": "code",
   "execution_count": 16,
   "metadata": {},
   "outputs": [],
   "source": [
    "# ACTUAL DATA UNITS\n",
    "temp_units = 'C'\n",
    "tp_units = 'm'\n",
    "sp_units = 'hPa'\n",
    "rh_units = '%'\n",
    "wind_units = 'm s-1'\n",
    "winddir_units = 'degrees'\n",
    "SWin_units = 'W m-2'\n",
    "SWout_units = 'W m-2'\n",
    "LWin_units = 'W m-2'\n",
    "LWout_units = 'W m-2'\n",
    "NR_units = 'W m-2'\n",
    "tcc_units = 'decimal'"
   ]
  },
  {
   "cell_type": "code",
   "execution_count": 17,
   "metadata": {},
   "outputs": [
    {
     "name": "stdout",
     "output_type": "stream",
     "text": [
      "Adjusted NR W m-2-->J m-2\n"
     ]
    }
   ],
   "source": [
    "# Fill out units of input data\n",
    "units_in = {'temp':temp_units,'rh':rh_units,'SWin':SWin_units,'SWout':SWout_units,'LWin':LWin_units,'LWout':LWout_units,'NR':NR_units,\n",
    "            'wind':wind_units,'winddir':winddir_units,'sp':sp_units,'tp':tp_units,'tcc':tcc_units}\n",
    "\n",
    "# Units we should be in\n",
    "units_out = {'temp':'C','dtemp':'K','tp':'m','rh':'%',\n",
    "        'SWin':'J m-2','SWout':'J m-2','LWin':'J m-2','LWout':'J m-2','NR':'J m-2',\n",
    "        'tcc':'0-1','wind':'m s-1','winddir':'degrees','sp':'Pa'}\n",
    "\n",
    "if 'temp' in df.columns:\n",
    "    if units_in['temp'] == 'K':\n",
    "        df['temp'] = df['temp'] - 273.15\n",
    "        print('Adjusted temp K-->C')\n",
    "    elif units_in['temp'] == 'F':\n",
    "        df['temp'] = (df['temp'] - 32)*5/9\n",
    "        print('Adjusted temp F-->C')\n",
    "    \n",
    "if 'rh' in df.columns:\n",
    "    if units_in['rh'] == 'decimal':\n",
    "        df['rh'] = df['rh'] * 100\n",
    "        print('Adjusted RH decimal-->%')\n",
    "    \n",
    "if 'winddir' in df.columns:\n",
    "    if units_in['winddir'] == 'rad':\n",
    "        df['winddir'] = df['winddir'] * 180/np.pi\n",
    "        print('Adjusted winddir radians-->deg')\n",
    "    \n",
    "if 'tcc' in df.columns:\n",
    "    if units_in['tcc'] == '%':\n",
    "        df['tcc'] = df['tcc'] / 100\n",
    "        print('Adjusted tcc %-->0-1')\n",
    "    \n",
    "if 'tp' in df.columns:\n",
    "    if units_in['tp'] == 'm s-1':\n",
    "        df['tp'] = df['tp'] *3600\n",
    "        print('Adjusted tp m/s-->m')\n",
    "    elif units_in['tp'] == 'mm':\n",
    "        df['tp'] = df['tp'] / 1000\n",
    "        print('Adjusted tp mm-->m')\n",
    "\n",
    "for rad in ['SWin','SWout','LWin','LWout','NR']:\n",
    "    if rad in df.columns:\n",
    "        if units_in[rad] == 'W m-2':\n",
    "            df[rad] = df[rad] * 3600\n",
    "            print(f'Adjusted {rad} W m-2-->J m-2')\n",
    "\n",
    "if 'sp' in df.columns:\n",
    "    if units_in['sp'] == 'mmHg':\n",
    "        df['sp'] = df['sp'] * 133.32\n",
    "        print('Adjusted sp mmHg-->Pa')\n",
    "    elif units_in['sp'] == 'cmHg':\n",
    "        df['sp'] = df['sp'] * 1333.2\n",
    "        print('Adjusted sp cmHg-->Pa')\n",
    "    elif units_in['sp'] == 'kPa':\n",
    "        df['sp'] = df['sp'] * 1000\n",
    "        print('Adjusted sp kPa-->Pa')\n",
    "    elif units_in['sp'] == 'hPa':\n",
    "        df['sp'] = df['sp'] * 100\n",
    "        print('Adjusted sp hPa-->Pa')\n",
    "\n",
    "# Check SW fluxes make sense (SWout cannot exceed SWin)\n",
    "if 'SWout' in df.columns:\n",
    "    df['SWout'] = df['SWout'].mask(df['SWout'] - df['SWin'] > 0,None)"
   ]
  },
  {
   "cell_type": "markdown",
   "metadata": {},
   "source": [
    "## 7. Final check and export\n",
    "Print the dataframe and plot the data and visually inspect. Look for data gaps or values that don't seem right (this probably means you missed a unit conversion.) Finally add the elevation to the dataframe as a new column and export the data!"
   ]
  },
  {
   "cell_type": "code",
   "execution_count": 18,
   "metadata": {},
   "outputs": [
    {
     "data": {
      "text/html": [
       "<div>\n",
       "<style scoped>\n",
       "    .dataframe tbody tr th:only-of-type {\n",
       "        vertical-align: middle;\n",
       "    }\n",
       "\n",
       "    .dataframe tbody tr th {\n",
       "        vertical-align: top;\n",
       "    }\n",
       "\n",
       "    .dataframe thead th {\n",
       "        text-align: right;\n",
       "    }\n",
       "</style>\n",
       "<table border=\"1\" class=\"dataframe\">\n",
       "  <thead>\n",
       "    <tr style=\"text-align: right;\">\n",
       "      <th></th>\n",
       "      <th>temp</th>\n",
       "      <th>rh</th>\n",
       "      <th>wind</th>\n",
       "      <th>winddir</th>\n",
       "      <th>NR</th>\n",
       "    </tr>\n",
       "    <tr>\n",
       "      <th>TIMESTAMP</th>\n",
       "      <th></th>\n",
       "      <th></th>\n",
       "      <th></th>\n",
       "      <th></th>\n",
       "      <th></th>\n",
       "    </tr>\n",
       "  </thead>\n",
       "  <tbody>\n",
       "    <tr>\n",
       "      <th>2025-05-20 23:00:00</th>\n",
       "      <td>-0.12175</td>\n",
       "      <td>96.125</td>\n",
       "      <td>0.82425</td>\n",
       "      <td>130.7850</td>\n",
       "      <td>-24777.9</td>\n",
       "    </tr>\n",
       "    <tr>\n",
       "      <th>2025-05-21 00:00:00</th>\n",
       "      <td>-0.39750</td>\n",
       "      <td>96.625</td>\n",
       "      <td>1.88800</td>\n",
       "      <td>131.8225</td>\n",
       "      <td>-48033.0</td>\n",
       "    </tr>\n",
       "    <tr>\n",
       "      <th>2025-05-21 01:00:00</th>\n",
       "      <td>-0.87375</td>\n",
       "      <td>97.850</td>\n",
       "      <td>2.25500</td>\n",
       "      <td>211.0075</td>\n",
       "      <td>-35181.0</td>\n",
       "    </tr>\n",
       "    <tr>\n",
       "      <th>2025-05-21 02:00:00</th>\n",
       "      <td>-0.93900</td>\n",
       "      <td>98.175</td>\n",
       "      <td>4.33925</td>\n",
       "      <td>54.1525</td>\n",
       "      <td>-31559.4</td>\n",
       "    </tr>\n",
       "    <tr>\n",
       "      <th>2025-05-21 03:00:00</th>\n",
       "      <td>-0.84500</td>\n",
       "      <td>98.025</td>\n",
       "      <td>4.81450</td>\n",
       "      <td>135.3500</td>\n",
       "      <td>-59944.5</td>\n",
       "    </tr>\n",
       "  </tbody>\n",
       "</table>\n",
       "</div>"
      ],
      "text/plain": [
       "                        temp      rh     wind   winddir       NR\n",
       "TIMESTAMP                                                       \n",
       "2025-05-20 23:00:00 -0.12175  96.125  0.82425  130.7850 -24777.9\n",
       "2025-05-21 00:00:00 -0.39750  96.625  1.88800  131.8225 -48033.0\n",
       "2025-05-21 01:00:00 -0.87375  97.850  2.25500  211.0075 -35181.0\n",
       "2025-05-21 02:00:00 -0.93900  98.175  4.33925   54.1525 -31559.4\n",
       "2025-05-21 03:00:00 -0.84500  98.025  4.81450  135.3500 -59944.5"
      ]
     },
     "execution_count": 18,
     "metadata": {},
     "output_type": "execute_result"
    }
   ],
   "source": [
    "df.head(5)"
   ]
  },
  {
   "cell_type": "code",
   "execution_count": 19,
   "metadata": {},
   "outputs": [
    {
     "data": {
      "image/png": "[encoded data removed]",
      "text/plain": [
       "<Figure size 700x750 with 5 Axes>"
      ]
     },
     "metadata": {},
     "output_type": "display_data"
    }
   ],
   "source": [
    "full_vars = []\n",
    "for var in df.columns:\n",
    "    if df[var].count() > 0 and var not in ['z','hour']:\n",
    "        full_vars.append(var)\n",
    "nvars = len(full_vars)\n",
    "fig,axis = plt.subplots(nvars,1,figsize=(7,1.5*nvars),sharex=True)\n",
    "df['hour'] = pd.to_datetime(df.index).hour\n",
    "\n",
    "c_iter = iter([plt.cm.Dark2(i) for i in range(8)])\n",
    "c = next(c_iter)\n",
    "for i,var in enumerate(full_vars):\n",
    "    var_hourly = []\n",
    "    for hour in np.arange(24):\n",
    "        ds_hour = df[df['hour'] == hour]\n",
    "        hourly_mean = np.mean(ds_hour[var])\n",
    "        var_hourly.append(hourly_mean)\n",
    "    axis[i].plot(np.arange(24),var_hourly)\n",
    "    axis[i].set_ylabel(var)\n",
    "    axis[i].set_xlim((0,23))\n",
    "axis[0].set_title('Weather averages for each hour of the day')\n",
    "plt.show()"
   ]
  },
  {
   "cell_type": "code",
   "execution_count": 20,
   "metadata": {},
   "outputs": [],
   "source": [
    "for item in fill_data:\n",
    "    df[item] = np.zeros(len(df.index))\n",
    "df['sp'] = 101580\n",
    "df['tcc'] = np.ones(len(df.index))\n",
    "df['uwind'] = df['wind']\n",
    "df['vwind'] = np.zeros(len(df.index))"
   ]
  },
  {
   "cell_type": "code",
   "execution_count": 21,
   "metadata": {},
   "outputs": [],
   "source": [
    "# df = df.drop(columns=['hour'])\n",
    "df['z'] = np.ones(len(df.index)) * elev\n",
    "df.to_csv(export_fp+export_fn)"
   ]
  },
  {
   "cell_type": "code",
   "execution_count": null,
   "metadata": {},
   "outputs": [],
   "source": [
    "# ===== DONE! ====="
   ]
  }
 ],
 "metadata": {
  "kernelspec": {
   "display_name": "eb_env",
   "language": "python",
   "name": "python3"
  },
  "language_info": {
   "codemirror_mode": {
    "name": "ipython",
    "version": 3
   },
   "file_extension": ".py",
   "mimetype": "text/x-python",
   "name": "python",
   "nbconvert_exporter": "python",
   "pygments_lexer": "ipython3",
   "version": "3.11.7"
  }
 },
 "nbformat": 4,
 "nbformat_minor": 4
}
