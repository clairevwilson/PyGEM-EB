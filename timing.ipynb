{
 "cells": [
  {
   "cell_type": "markdown",
   "metadata": {},
   "source": [
    "Use this notebook to test the timing of different scripts within the model"
   ]
  },
  {
   "cell_type": "code",
   "execution_count": null,
   "metadata": {},
   "outputs": [],
   "source": [
    "import run_simulation as sim\n",
    "import pandas as pd\n",
    "import pebsi.input as eb_prms\n",
    "eb_prms.enddate = eb_prms.startdate + pd.Timedelta(hours=2)\n",
    "import pebsi.massbalance as mb\n",
    "eb_prms.enddate = pd.to_datetime('2023-08-20 23:30')\n",
    "%load_ext line_profiler"
   ]
  },
  {
   "cell_type": "code",
   "execution_count": null,
   "metadata": {},
   "outputs": [],
   "source": [
    "# initialize the model\n",
    "args = sim.get_args()\n",
    "gn = args.glac_no\n",
    "args.site = 'B'\n",
    "climate, args = sim.initialize_model(gn,args)\n",
    "args.store_data = False\n",
    "massbal = mb.massBalance(args,climate)"
   ]
  },
  {
   "cell_type": "code",
   "execution_count": null,
   "metadata": {},
   "outputs": [],
   "source": [
    "%lprun -f massbal.main massbal.main()"
   ]
  },
  {
   "cell_type": "code",
   "execution_count": null,
   "metadata": {},
   "outputs": [],
   "source": []
  }
 ],
 "metadata": {
  "kernelspec": {
   "display_name": "eb_env",
   "language": "python",
   "name": "python3"
  },
  "language_info": {
   "codemirror_mode": {
    "name": "ipython",
    "version": 3
   },
   "file_extension": ".py",
   "mimetype": "text/x-python",
   "name": "python",
   "nbconvert_exporter": "python",
   "pygments_lexer": "ipython3",
   "version": "3.11.9"
  }
 },
 "nbformat": 4,
 "nbformat_minor": 2
}
