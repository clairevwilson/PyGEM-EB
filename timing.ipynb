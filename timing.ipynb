{
 "cells": [
  {
   "cell_type": "markdown",
   "metadata": {},
   "source": [
    "Use this notebook to test the timing of different scripts within the model"
   ]
  },
  {
   "cell_type": "code",
   "execution_count": 2,
   "metadata": {},
   "outputs": [],
   "source": [
    "import run_simulation_eb as sim\n",
    "import pandas as pd\n",
    "import pygem_eb.input as eb_prms\n",
    "eb_prms.enddate = eb_prms.startdate + pd.Timedelta(hours=2)\n",
    "import pygem_eb.massbalance as mb\n",
    "eb_prms.enddate = pd.to_datetime('2023-08-20 23:30')\n",
    "%load_ext line_profiler"
   ]
  },
  {
   "cell_type": "code",
   "execution_count": 5,
   "metadata": {},
   "outputs": [
    {
     "name": "stdout",
     "output_type": "stream",
     "text": [
      "1 glaciers in region 1 are included in this model run: ['00570']\n",
      "This study is focusing on 1 glaciers in region [1]\n",
      "Running Gulkana Glacier at 1682.0 m a.s.l. for 4.0 months starting in April, 2023\n",
      "~~~~~~~~~~~~~~~~~~~~~~~~~~~~~~~~~~~~~~~~~~~~~~~~\n",
      "Total Time Elapsed: 320.7 s\n",
      "Success: data was not saved\n"
     ]
    }
   ],
   "source": [
    "args = sim.get_args()\n",
    "gn = args.glac_no[0]\n",
    "args.site = 'B'\n",
    "climate = sim.initialize_model(gn,args)\n",
    "args.store_data = False\n",
    "# eb_prms.output_name = '/home/claire/research/Output/EB/Gulkana_2024_08_07_1'\n",
    "out = sim.run_model(climate,args,{'test':'timing'})"
   ]
  },
  {
   "cell_type": "code",
   "execution_count": null,
   "metadata": {},
   "outputs": [
    {
     "name": "stdout",
     "output_type": "stream",
     "text": [
      "1 glaciers in region 1 are included in this model run: ['00570']\n",
      "This study is focusing on 1 glaciers in region [1]\n",
      "Running Gulkana Glacier at 1682.0 m a.s.l. for 4.0 months starting in April, 2023\n"
     ]
    }
   ],
   "source": [
    "# initialize the model\n",
    "args = sim.get_args()\n",
    "gn = args.glac_no[0]\n",
    "args.site = 'B'\n",
    "climate = sim.initialize_model(gn,args)\n",
    "massbal = mb.massBalance(args,climate)"
   ]
  },
  {
   "cell_type": "code",
   "execution_count": 9,
   "metadata": {},
   "outputs": [
    {
     "name": "stdout",
     "output_type": "stream",
     "text": [
      "Timer unit: 1e-09 s\n",
      "\n",
      "Total time: 98.3963 s\n",
      "File: /trace/home/cvwilson/research/PyGEM-EB/pygem_eb/massbalance.py\n",
      "Function: main at line 52\n",
      "\n",
      "Line #      Hits         Time  Per Hit   % Time  Line Contents\n",
      "==============================================================\n",
      "    52                                               def main(self):\n",
      "    53                                                   \"\"\"\n",
      "    54                                                   Runs the time loop and mass balance scheme to solve for melt, refreeze, \n",
      "    55                                                   accumulation and runoff.\n",
      "    56                                                   \"\"\"\n",
      "    57                                                   # Get classes and time\n",
      "    58         1       1282.0   1282.0      0.0          layers = self.layers\n",
      "    59         1        251.0    251.0      0.0          surface = self.surface\n",
      "    60         1        300.0    300.0      0.0          dt = self.dt\n",
      "    61                                           \n",
      "    62                                                   # CONSTANTS\n",
      "    63         1       1513.0   1513.0      0.0          DENSITY_WATER = eb_prms.density_water\n",
      "    64                                           \n",
      "    65                                                   # ===== ENTER TIME LOOP =====\n",
      "    66      2953    4312245.0   1460.3      0.0          for time in self.time_list:\n",
      "    67                                                       # BEGIN MASS BALANCE\n",
      "    68      2952     793674.0    268.9      0.0              self.time = time\n",
      "    69                                           \n",
      "    70                                                       # Check we still have glacier\n",
      "    71      2952   17453775.0   5912.5      0.0              self.check_glacier()\n",
      "    72                                           \n",
      "    73                                                       # Initiate the energy balance to unpack climate data\n",
      "    74      2952 3181648471.0    1e+06      3.2              enbal = eb.energyBalance(self.climate,time,dt,self.args)\n",
      "    75      2952    4832717.0   1637.1      0.0              self.enbal = enbal \n",
      "    76                                           \n",
      "    77                                                       # Get rain and snowfall amounts [kg m-2]\n",
      "    78      2952  136478415.0  46232.5      0.1              rainfall,snowfall = self.get_precip(enbal)\n",
      "    79                                           \n",
      "    80                                                       # Add fresh snow to layers\n",
      "    81      2952  321149833.0 108790.6      0.3              snowfall = layers.add_snow(snowfall,enbal,surface,time)\n",
      "    82                                           \n",
      "    83                                                       # Add dry deposited BC and dust to layers\n",
      "    84      2952   24878095.0   8427.5      0.0              enbal.get_dry_deposition(layers)\n",
      "    85                                           \n",
      "    86                                                       # Update daily properties\n",
      "    87      2952    1603521.0    543.2      0.0              if time.hour == 0:\n",
      "    88       123 1265341244.0    1e+07      1.3                  surface.daily_updates(layers,enbal.tempC,surface.stemp,time)\n",
      "    89       123     110691.0    899.9      0.0                  self.days_since_snowfall = surface.days_since_snowfall\n",
      "    90       123     169449.0   1377.6      0.0                  layers.lnewsnow = np.zeros(layers.nlayers)\n",
      "    91                                           \n",
      "    92      2952    1696629.0    574.7      0.0              if time.hour in eb_prms.albedo_TOD:\n",
      "    93       123        8e+10    6e+08     77.6                  surface.get_albedo(layers,time)\n",
      "    94                                           \n",
      "    95                                                       # Calculate surface energy balance by updating surface temperature\n",
      "    96      2952        1e+10    4e+06     12.1              surface.get_surftemp(enbal,layers)\n",
      "    97                                           \n",
      "    98                                                       # Calculate subsurface heating from penetrating SW\n",
      "    99      2952 1752383563.0 593625.9      1.8              SWin,SWout = enbal.get_SW(surface)\n",
      "   100      2952  174032598.0  58954.1      0.2              subsurf_melt = self.subsurface_heating(layers,SWin+SWout)\n",
      "   101                                                       \n",
      "   102                                                       # Calculate column melt including the surface\n",
      "   103      2952   81462055.0  27595.5      0.1              layermelt = self.melting(layers,subsurf_melt)\n",
      "   104                                                       # Sum melt for output\n",
      "   105      2952   18089431.0   6127.9      0.0              melt = np.sum(layermelt)\n",
      "   106      2952    1128791.0    382.4      0.0              if self.melted_layers != 0:\n",
      "   107      1715    7953351.0   4637.5      0.0                  melt += np.sum(self.melted_layers.mass)\n",
      "   108                                                       \n",
      "   109                                                       # Percolate the meltwater, rain and LAPs\n",
      "   110      2952  458264107.0 155238.5      0.5              runoff = self.percolation(enbal,layers,layermelt,rainfall)\n",
      "   111                                                       \n",
      "   112                                                       # Recalculate the temperature profile considering conduction\n",
      "   113      2952 1493427473.0 505903.6      1.5              self.thermal_conduction(layers,surface.stemp)\n",
      "   114                                           \n",
      "   115                                                       # Calculate refreeze\n",
      "   116      2952  481199531.0 163008.0      0.5              refreeze = self.refreezing(layers)\n",
      "   117                                           \n",
      "   118                                                       # Run densification daily\n",
      "   119      2952    2055586.0    696.3      0.0              if time.hour == 0:\n",
      "   120       123   27496833.0 223551.5      0.0                  self.densification(layers)\n",
      "   121                                           \n",
      "   122                                                       # Calculate mass from phase changes\n",
      "   123      2952   49872975.0  16894.6      0.1              self.phase_changes(enbal,surface,layers)\n",
      "   124                                           \n",
      "   125                                                       # Check and update layer sizes\n",
      "   126      2952  354787073.0 120185.3      0.4              layers.check_layers(time,self.output.out_fn)\n",
      "   127                                                       \n",
      "   128                                                       # If towards the end of summer, check if old snow should become firn\n",
      "   129      2952    4663429.0   1579.8      0.0              if time.day_of_year >= eb_prms.end_summer_doy and time.hour == 0:\n",
      "   130         5       1813.0    362.6      0.0                  if not self.firn_converted:\n",
      "   131         5   13120036.0    3e+06      0.0                      self.end_of_summer()\n",
      "   132                                           \n",
      "   133                                                       # Check mass conserves\n",
      "   134      2952   52485583.0  17779.7      0.1              self.check_mass_conservation(snowfall+rainfall, runoff)\n",
      "   135                                           \n",
      "   136                                                       # END MASS BALANCE\n",
      "   137                                                       # Convert units of mass balance terms\n",
      "   138      2952    1174723.0    397.9      0.0              self.runoff = runoff / DENSITY_WATER\n",
      "   139      2952    1296609.0    439.2      0.0              self.melt = melt / DENSITY_WATER\n",
      "   140      2952    1074287.0    363.9      0.0              self.refreeze = refreeze / DENSITY_WATER\n",
      "   141      2952     977104.0    331.0      0.0              self.accum = snowfall / DENSITY_WATER\n",
      "   142                                           \n",
      "   143                                                       # Store timestep data\n",
      "   144      2952  143521261.0  48618.3      0.1              self.output.store_timestep(self,enbal,surface,layers,time)   \n",
      "   145                                           \n",
      "   146                                                       # Debugging: print current state and monthly melt at the end of each month\n",
      "   147      2952    2010633.0    681.1      0.0              if time.is_month_start and time.hour == 0 and self.args.debug:\n",
      "   148                                                           self.current_state(time,enbal.tempC)\n",
      "   149                                           \n",
      "   150                                                       # Updated yearly properties\n",
      "   151      2952    1731976.0    586.7      0.0              if time.day_of_year == 1 and time.hour == 0:\n",
      "   152                                                           self.firn_converted = False\n",
      "   153                                           \n",
      "   154                                                       # Advance timestep\n",
      "   155      2952     502688.0    170.3      0.0              pass\n",
      "   156                                           \n",
      "   157                                                   # Completed run: store data\n",
      "   158         1       1042.0   1042.0      0.0          if self.args.store_data:\n",
      "   159                                                       self.output.store_data()\n",
      "   160                                           \n",
      "   161         1        351.0    351.0      0.0          if eb_prms.store_bands:\n",
      "   162                                                       surface.albedo_df.to_csv(eb_prms.albedo_out_fp.replace('.csv',f'_{self.args.elev}.csv'))\n",
      "   163         1        100.0    100.0      0.0          return"
     ]
    }
   ],
   "source": [
    "%lprun -f massbal.main massbal.main()"
   ]
  },
  {
   "cell_type": "code",
   "execution_count": null,
   "metadata": {},
   "outputs": [],
   "source": []
  }
 ],
 "metadata": {
  "kernelspec": {
   "display_name": "eb_env",
   "language": "python",
   "name": "python3"
  },
  "language_info": {
   "codemirror_mode": {
    "name": "ipython",
    "version": 3
   },
   "file_extension": ".py",
   "mimetype": "text/x-python",
   "name": "python",
   "nbconvert_exporter": "python",
   "pygments_lexer": "ipython3",
   "version": "3.11.9"
  }
 },
 "nbformat": 4,
 "nbformat_minor": 2
}
