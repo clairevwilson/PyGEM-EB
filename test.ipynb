{
 "cells": [
  {
   "cell_type": "code",
   "execution_count": 3,
   "metadata": {},
   "outputs": [],
   "source": [
    "# TEST SNICAR\n",
    "import sys, os, yaml\n",
    "sys.path.append(os.getcwd()+'/biosnicar-py/')\n",
    "from biosnicar import get_albedo\n",
    "fp = '/trace/home/cvwilson/research/PyGEM-EB/biosnicar-py/biosnicar/inputs.yaml'\n",
    "output_dict = dict()\n",
    "run = 0\n",
    "\n",
    "import numpy as np"
   ]
  },
  {
   "cell_type": "code",
   "execution_count": 15,
   "metadata": {},
   "outputs": [
    {
     "name": "stdout",
     "output_type": "stream",
     "text": [
      "\n",
      "Running biosnicar with the adding-doubling solver\n",
      "\n",
      "\n",
      "** OUTPUT DATA **\n",
      "Broadband albedo:  0.7213\n",
      "\n",
      "BAND RATIO INDEX VALUES\n",
      "2DBA Index:  0.966136104819747\n",
      "3DBA index:  0.02850227911547096\n",
      "NDCI index:  0.009637643551802754\n",
      "MCI index:  -0.013449977652446515\n",
      "Impurity Index:  0.21741186602524668\n",
      "0.7213088048194828\n"
     ]
    }
   ],
   "source": [
    "with open(fp) as f:\n",
    "    list_doc = yaml.safe_load(f)\n",
    "n_layers = 3\n",
    "# Update changing layer variables\n",
    "BC = [2,5,5] # clean snow 0-3ppb, dirty 2-15ppb\n",
    "dust = [0,0,0] # in ppm converts to ppb, clean snow 0-2e4 ppb, dirty 1e4-1e5 ppb\n",
    "rho = [100,100,200]\n",
    "grainsize = [500,800,1200]\n",
    "\n",
    "list_doc['IMPURITIES']['BC']['CONC'] = BC\n",
    "list_doc['IMPURITIES']['OC']['CONC'] = BC\n",
    "\n",
    "list_doc['IMPURITIES']['DUST1']['CONC'] = [d*0.0834444*1000 for d in dust]\n",
    "list_doc['IMPURITIES']['DUST2']['CONC'] = [d*0.19784*1000 for d in dust]\n",
    "list_doc['IMPURITIES']['DUST3']['CONC'] = [d*0.481675*1000 for d in dust]\n",
    "list_doc['IMPURITIES']['DUST4']['CONC'] = [d*0.203786*1000 for d in dust]\n",
    "list_doc['IMPURITIES']['DUST5']['CONC'] = [d*0.034*1000 for d in dust]\n",
    "list_doc['ICE']['DZ'] = [0.05,0.1,10]\n",
    "list_doc['ICE']['RHO'] = rho\n",
    "list_doc['ICE']['RDS'] = grainsize\n",
    "\n",
    "# Following variables are set to constants, but need to have right number of layers\n",
    "ice_variables = ['LAYER_TYPE','SHP','HEX_SIDE','HEX_LENGTH',\n",
    "                         'SHP_FCTR','WATER_COATING','AR','CDOM']\n",
    "for var in ice_variables:\n",
    "    list_doc['ICE'][var] = [list_doc['ICE'][var][0]] * n_layers\n",
    "\n",
    "# Save SNICAR input file\n",
    "with open(fp, 'w') as f:\n",
    "    yaml.dump(list_doc,f)\n",
    "\n",
    "albedo,wv = get_albedo.get('adding-doubling',plot=False,validate=False)\n",
    "bba = np.sum(albedo*wv) / np.sum(wv)\n",
    "print(bba)\n",
    "\n",
    "output_dict[run] = {'BC':BC,'dust':dust,'grainsize':grainsize,\n",
    "                    'rho':rho,'albedo':bba}\n",
    "\n",
    "run += 1"
   ]
  },
  {
   "cell_type": "code",
   "execution_count": null,
   "metadata": {},
   "outputs": [],
   "source": [
    "0.4257"
   ]
  }
 ],
 "metadata": {
  "kernelspec": {
   "display_name": "eb",
   "language": "python",
   "name": "python3"
  },
  "language_info": {
   "codemirror_mode": {
    "name": "ipython",
    "version": 3
   },
   "file_extension": ".py",
   "mimetype": "text/x-python",
   "name": "python",
   "nbconvert_exporter": "python",
   "pygments_lexer": "ipython3",
   "version": "3.11.11"
  }
 },
 "nbformat": 4,
 "nbformat_minor": 2
}
