{
 "cells": [
  {
   "cell_type": "markdown",
   "id": "0e2302dc",
   "metadata": {},
   "source": [
    "# Plotting the energy balance model output"
   ]
  },
  {
   "cell_type": "markdown",
   "id": "aabea5aa",
   "metadata": {},
   "source": [
    "This notebook includes some basic plots you can use to inspect the energy balance model output. The output is a netcdf file so there are many ways you can visualize the data yourself, but I already created some basic plotting functions which are shown below."
   ]
  },
  {
   "cell_type": "code",
   "execution_count": null,
   "id": "db85ec8b",
   "metadata": {},
   "outputs": [],
   "source": [
    "%load_ext autoreload\n",
    "%autoreload 2\n",
    "from pebsi.processing.plotting_fxns import *\n",
    "import xarray as xr"
   ]
  },
  {
   "cell_type": "markdown",
   "id": "c0a39ac9",
   "metadata": {},
   "source": [
    "Open the file and do a quick inspection of the data variables contained within"
   ]
  },
  {
   "cell_type": "code",
   "execution_count": null,
   "id": "52a145e2",
   "metadata": {},
   "outputs": [],
   "source": [
    "output_fn = '../Output/YOUR_FILE_NAME_HERE.nc'\n",
    "ds = xr.open_dataset(output_fn)\n",
    "ds"
   ]
  },
  {
   "cell_type": "markdown",
   "id": "b09521ca",
   "metadata": {},
   "source": [
    "Visualize the snow layers for the duration of the model simulation"
   ]
  },
  {
   "cell_type": "code",
   "execution_count": null,
   "id": "326678f5",
   "metadata": {},
   "outputs": [],
   "source": [
    "# Define the variables to plot \n",
    "# Options: layertemp, layerdensity, layerwater, layergrainsize layerBC, layerOC, layerdust\n",
    "layer_vars = ['layertemp','layerdensity','layerwater']\n",
    "\n",
    "# Find the start and end timestamp\n",
    "start = ds.time.values[0]\n",
    "end = ds.time.values[-1]\n",
    "\n",
    "# Create a daily timeseries to sample the model output\n",
    "daily_dates = pd.date_range(start, end)\n",
    "\n",
    "# Plot the layers\n",
    "axes = visualize_layers(ds, daily_dates, layer_vars)\n",
    "plt.show()"
   ]
  },
  {
   "cell_type": "markdown",
   "id": "7014670b",
   "metadata": {},
   "source": [
    "Inspect the heat fluxes averaged for each hour of the day"
   ]
  },
  {
   "cell_type": "code",
   "execution_count": null,
   "id": "e425b3e2",
   "metadata": {},
   "outputs": [],
   "source": [
    "# Group variable terms by subplot\n",
    "hour_vars = [['SWnet','LWnet','sensible','latent','rain','ground'],\n",
    "             ['melt','refreeze','accum','runoff']]\n",
    "\n",
    "# Plot hourly averages of these terms\n",
    "plot_hours(ds, hour_vars)"
   ]
  },
  {
   "cell_type": "markdown",
   "id": "e589c4f6",
   "metadata": {},
   "source": [
    "Plot any other single variable for the entire timeseries"
   ]
  },
  {
   "cell_type": "code",
   "execution_count": null,
   "id": "b4796708",
   "metadata": {},
   "outputs": [],
   "source": [
    "# Define the variable\n",
    "var = 'albedo'\n",
    "\n",
    "# Define the time range\n",
    "time = [ds.time.values[0], ds.time.values[-1]]\n",
    "\n",
    "# Define the time resolution\n",
    "resolution = 'd'\n",
    "\n",
    "# Make a simple plot\n",
    "simple_plot(ds, time, [[var]], res=resolution)\n",
    "plt.show()"
   ]
  },
  {
   "cell_type": "markdown",
   "id": "00445cc0",
   "metadata": {},
   "source": [
    "If you are done early, feel free to play around with some other settings and see how it changes these plots!\n",
    "Some easy things to change:\n",
    "- Add a command line argument for the initial snow (e.g. -s0=3) or firn depth (e.g. -f0=10)\n",
    "- Add a command line argument to turn off albedo switches \n",
    "    - Turn off grain size growth (-switch_melt=0)\n",
    "    - Change albedo to be a simple exponential lapse rate (-switch_melt=1)\n",
    "    - Turn off fresh snow albedo reset (-switch_snow=0)\n",
    "    - Turn off light-absorbing particles (-switch_LAPs=0) will do nothing for the test glacier because it already has no LAPs"
   ]
  },
  {
   "cell_type": "code",
   "execution_count": null,
   "id": "cf36d71b",
   "metadata": {},
   "outputs": [],
   "source": [
    "# Define input filepaths of two simulations\n",
    "output_fp_1 = ''\n",
    "output_fp_2 = ''\n",
    "\n",
    "# Choose variable to compare across datasets \n",
    "var = 'albedo'\n",
    "\n",
    "# Open datasets \n",
    "ds1 = xr.open_dataset(output_fp_1)\n",
    "ds2 = xr.open_dataset(output_fp_2)\n",
    "\n",
    "# Determine start and end time\n",
    "time = [ds1.time.values[0], ds1.time.values[-1]]\n",
    "\n",
    "# Compare simulations \n",
    "fig,ax = compare_runs([ds1,ds2],time,['First simulation','Second simulation'],var)\n",
    "plt.show()"
   ]
  },
  {
   "cell_type": "markdown",
   "id": "25c98b4c",
   "metadata": {},
   "source": [
    "More information on the dataset storage:\n",
    "\n",
    "- 2 coordinates\n",
    "   - time : hourly timestep values\n",
    "   - layer : indices for the maximum number of layers the model can store (allows for large amounts of snowfall; most layers are empty)\n",
    "- 36 data variables\n",
    "   - mass balance terms\n",
    "      - melt, refreeze, runoff, accumulation (\"accum\") and net mass balance (\"MB\") in m w.e.\n",
    "      - snow depth (\"snowdepth\") and surface height change (\"dh\") in meters\n",
    "      - cumrefreeze in m w.e.\n",
    "          - tracks the cumulative refreeze which resets annually to 0 (allows accounting of annual internal mass balance)\n",
    "    - energy balance terms\n",
    "      - shortwave (\"SW\") and longwave (\"LW\") incoming (\"in\"), outgoing (\"out\"), and net (\"net\") fluxes in W m-2\n",
    "      - SWin_sky and _terr in W m-2 \n",
    "          - indicate the portion of incoming shortwave that is from the sky versus terrain-scattered\n",
    "      - latent, sensible, ground, and rain heat fluxes in W m-2\n",
    "      - meltenergy (sum of all other heat fluxes) in W m-2\n",
    "      - surface temperature (\"surftemp\") in degrees C\n",
    "      - other meteorological inputs: air temperature (\"airtemp\") in degrees C and wind speed (\"wind\") in m s-1\n",
    "    - layer variables\n",
    "      - temperature (\"temp\") in degrees C\n",
    "      - density in kg m-3\n",
    "      - liquid water content (\"water\") in masss %\n",
    "      - grain size (\"grainsize\") in um\n",
    "      - refrozen content in mm w.e. / kg m-2\n",
    "      - black carbon (\"BC\"), organic carbon (\"OC\") and dust content in ppb\n",
    "- several attributes\n",
    "    - glacier name, elevation, site of the simulation\n",
    "    - from_AWS : which variables came from the weather station dataset\n",
    "    - which_AWS : which AWS those variables came from\n",
    "    - from_reanalysis : which variables came from reanalysis data\n",
    "    - which_reanalysis : which reanalysis dataset those variables came from\n",
    "    - run_start and run_end : the simulation start and end timestamp\n",
    "    - model_run_date : the day this simulation was performed\n",
    "    - time_elapsed : how long it took to run this simulation\n",
    "    - run_by : name of the machine that ran the code"
   ]
  }
 ],
 "metadata": {
  "kernelspec": {
   "display_name": "research",
   "language": "python",
   "name": "python3"
  },
  "language_info": {
   "codemirror_mode": {
    "name": "ipython",
    "version": 3
   },
   "file_extension": ".py",
   "mimetype": "text/x-python",
   "name": "python",
   "nbconvert_exporter": "python",
   "pygments_lexer": "ipython3",
   "version": "3.11.9"
  }
 },
 "nbformat": 4,
 "nbformat_minor": 5
}
