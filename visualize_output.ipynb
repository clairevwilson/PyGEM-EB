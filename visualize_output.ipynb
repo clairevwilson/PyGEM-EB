{
 "cells": [
  {
   "cell_type": "markdown",
   "id": "0e2302dc",
   "metadata": {},
   "source": [
    "This code is intended to be a simple walk-through of a model output and draws on some default plotting functions"
   ]
  },
  {
   "cell_type": "code",
   "execution_count": null,
   "id": "db85ec8b",
   "metadata": {},
   "outputs": [],
   "source": [
    "from pygem_eb.processing.plotting_fxns import *\n",
    "import xarray as xr"
   ]
  },
  {
   "cell_type": "markdown",
   "id": "c0a39ac9",
   "metadata": {},
   "source": [
    "Open the file and do a quick inspection of the data variables contained within"
   ]
  },
  {
   "cell_type": "code",
   "execution_count": null,
   "id": "52a145e2",
   "metadata": {},
   "outputs": [],
   "source": [
    "output_fn = '../Output/YOUR_FILE_NAME_HERE.nc'\n",
    "ds = xr.open_dataset(output_fn)\n",
    "ds"
   ]
  },
  {
   "cell_type": "markdown",
   "id": "b09521ca",
   "metadata": {},
   "source": [
    "Visualize the snow layers for the duration of the model simulation"
   ]
  },
  {
   "cell_type": "code",
   "execution_count": null,
   "id": "326678f5",
   "metadata": {},
   "outputs": [],
   "source": [
    "# Define the variables to plot \n",
    "# Options: layertemp, layerdensity, layerwater, layergrainsize layerBC, layerOC, layerdust\n",
    "layer_vars = ['layertemp','layerdensity','layerwater']\n",
    "\n",
    "# Find the start and end timestamp\n",
    "start = ds.time.values[0]\n",
    "end = ds.time.values[-1]\n",
    "\n",
    "# Create a daily timeseries to sample the model output\n",
    "daily_dates = pd.date_range(start, end)\n",
    "\n",
    "# Plot the layers\n",
    "visualize_layers(ds, daily_dates, layer_vars)"
   ]
  }
 ],
 "metadata": {
  "kernelspec": {
   "display_name": "Python 3",
   "language": "python",
   "name": "python3"
  },
  "language_info": {
   "codemirror_mode": {
    "name": "ipython",
    "version": 3
   },
   "file_extension": ".py",
   "mimetype": "text/x-python",
   "name": "python",
   "nbconvert_exporter": "python",
   "pygments_lexer": "ipython3",
   "version": "3.11.13"
  }
 },
 "nbformat": 4,
 "nbformat_minor": 5
}
